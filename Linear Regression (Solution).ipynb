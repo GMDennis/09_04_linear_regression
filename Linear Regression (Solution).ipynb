{
 "cells": [
  {
   "cell_type": "code",
   "execution_count": 1,
   "metadata": {},
   "outputs": [
    {
     "name": "stderr",
     "output_type": "stream",
     "text": [
      "/home/com09/.local/lib/python3.6/site-packages/matplotlib/__init__.py:886: MatplotlibDeprecationWarning: \n",
      "examples.directory is deprecated; in the future, examples will be found relative to the 'datapath' directory.\n",
      "  \"found relative to the 'datapath' directory.\".format(key))\n"
     ]
    }
   ],
   "source": [
    "import matplotlib.pyplot as plt\n",
    "from matplotlib.pylab import rcParams\n",
    "import numpy as np\n",
    "import pandas as pd  \n",
    "import seaborn as seabornInstance \n",
    "from sklearn import metrics\n",
    "from sklearn import datasets, linear_model\n",
    "from sklearn.linear_model import LinearRegression, Ridge, Lasso, RidgeCV, LassoCV\n",
    "from sklearn.metrics import mean_squared_error, r2_score\n",
    "from sklearn.model_selection import train_test_split\n",
    "from sklearn.datasets import load_boston\n",
    "%matplotlib inline\n",
    "rcParams['figure.figsize'] = 12, 10\n",
    "\n",
    "# Tip: if you want the generated figure to be large, re-run this cell before the beginning of every exercise."
   ]
  },
  {
   "cell_type": "markdown",
   "metadata": {},
   "source": [
    "# 1.Linear Regression\n",
    "\n",
    "---------------------------------------\n",
    "\n",
    "## a. Ordinary Linear Regression\n",
    "\n",
    "------------------\n",
    "\n",
    "### LinearRegression(fit_intercept = True, normalize = False)\n",
    "*  Return an ordinary least squares Linear Regression object.\n",
    " \n",
    "* #### Parameters\n",
    " 1.    fit_intercept: whether to calculate the intercept. True/False. default True\n",
    " 2.    normalize: whether to normalize the X regressors before fitting. True/False. default False. \n",
    "         ignored when fit_intercept is set to be True\n",
    "     \n",
    " \n",
    "*  #### Attributes (of the LinearRegression object):\n",
    " *    coef_: estimated coefficients for the linear regression problem.\n",
    " *    intercept_: array of indepentdent term in the linear model.\n",
    " \n",
    "*  #### Methods (on the LinearRegression object)\n",
    " *    fit(X, y) : fit the linear model: y = aX + b\n",
    " *    get_params: return the parameters for the linear regression estimator.\n",
    " *    predict(X): predict using the linear model"
   ]
  },
  {
   "cell_type": "code",
   "execution_count": 2,
   "metadata": {},
   "outputs": [
    {
     "data": {
      "image/png": "[encoded data removed]",
      "text/plain": [
       "<Figure size 432x288 with 1 Axes>"
      ]
     },
     "metadata": {
      "needs_background": "light"
     },
     "output_type": "display_data"
    }
   ],
   "source": [
    "# Example 1: linear regression to estimate the relationship between height and weight\n",
    "\n",
    "# Data\n",
    "height=[[4.0],[4.5],[5.0],[5.2],[5.4],[5.8],[6.1],[6.2],[6.4],[6.8]]\n",
    "weight=[  42 ,  44 , 49, 55  , 53  , 58   , 60  , 64  ,  66 ,  69]\n",
    "\n",
    "# Visualize the data\n",
    "plt.scatter(height,weight,color='black')\n",
    "plt.xlabel(\"height\")\n",
    "plt.ylabel(\"weight\")\n",
    "plt.show()"
   ]
  },
  {
   "cell_type": "markdown",
   "metadata": {},
   "source": [
    "It seems like there is a linear relationship between height and weight. Let us use linear regression to capture such relationship: weight = a * height + b"
   ]
  },
  {
   "cell_type": "code",
   "execution_count": 3,
   "metadata": {},
   "outputs": [
    {
     "name": "stdout",
     "output_type": "stream",
     "text": [
      "slope= 10.193621867881548 intercept= -0.4726651480637756\n"
     ]
    },
    {
     "data": {
      "image/png": "[encoded data removed]",
      "text/plain": [
       "<Figure size 432x288 with 1 Axes>"
      ]
     },
     "metadata": {
      "needs_background": "light"
     },
     "output_type": "display_data"
    }
   ],
   "source": [
    "# Example 1: linear regression to estimate the relationship between height and weight (cont)\n",
    "\n",
    "# Define the Linear Regression object\n",
    "reg=LinearRegression()\n",
    "\n",
    "# Fit the Linear Regresison model on our dataset\n",
    "reg.fit(height,weight)\n",
    "\n",
    "# Print slope and intercept\n",
    "a=reg.coef_[0]\n",
    "b=reg.intercept_\n",
    "print(\"slope=\",a, \"intercept=\",b)\n",
    "\n",
    "# Plot the result\n",
    "plt.scatter(height,weight,color='black')\n",
    "predicted_values = [reg.coef_ * i + reg.intercept_ for i in height]\n",
    "plt.plot(height, predicted_values, 'b')\n",
    "plt.xlabel(\"height\")\n",
    "plt.ylabel(\"weight\")\n",
    "plt.show()"
   ]
  },
  {
   "cell_type": "markdown",
   "metadata": {},
   "source": [
    "We see that weight can be regarded as a linear function of height, so on the other hand, height can also be regarded as a linear function of weight."
   ]
  },
  {
   "cell_type": "code",
   "execution_count": 4,
   "metadata": {},
   "outputs": [
    {
     "name": "stdout",
     "output_type": "stream",
     "text": [
      "slope= 0.09521276595744681 intercept= 0.2080851063829785\n"
     ]
    },
    {
     "data": {
      "image/png": "[encoded data removed]",
      "text/plain": [
       "<Figure size 432x288 with 1 Axes>"
      ]
     },
     "metadata": {
      "needs_background": "light"
     },
     "output_type": "display_data"
    }
   ],
   "source": [
    "# Exercise 1: linear regression to estimate the relationship between weight and height\n",
    "\n",
    "# Data\n",
    "height=[4.0,4.5,5.0,5.2,5.4,5.8,6.1,6.2,6.4,6.8]\n",
    "weight=[  [42] ,  [44] , [49], [55]  , [53]  , [58]   , [60]  , [64]  ,  [66] ,  [69]]\n",
    "\n",
    "# Linear Regression\n",
    "### YOUR CODE HERE. Fill in the \"None\".\n",
    "# Hint: Define the Linear Regression object\n",
    "reg=LinearRegression()\n",
    "\n",
    "# Hint: Fit the Linear Regresison model on our dataset\n",
    "reg.fit(weight,height)\n",
    "\n",
    "# Hint: a is slope and b is intercept\n",
    "a=reg.coef_[0]\n",
    "b=reg.intercept_\n",
    "### END OF YOUR CODE.\n",
    "\n",
    "print(\"slope=\",a, \"intercept=\",b)\n",
    "\n",
    "# Plot the result\n",
    "plt.scatter(weight,height,color='black')\n",
    "predicted_values = [reg.coef_ * i + reg.intercept_ for i in weight]\n",
    "plt.plot(weight, predicted_values, 'b')\n",
    "plt.xlabel(\"weight\")\n",
    "plt.ylabel(\"height\")\n",
    "plt.show()"
   ]
  },
  {
   "cell_type": "markdown",
   "metadata": {},
   "source": [
    "We have attempted with a (very) simple Linear Regression model, in which there is only 1 feature. However, often in reality, the number of features to consider is often more than that. Let us try with one such example!"
   ]
  },
  {
   "cell_type": "code",
   "execution_count": 5,
   "metadata": {},
   "outputs": [
    {
     "name": "stdout",
     "output_type": "stream",
     "text": [
      "(442, 10)\n",
      "The features are:  ['age', 'sex', 'bmi', 'bp', 's1', 's2', 's3', 's4', 's5', 's6']\n"
     ]
    }
   ],
   "source": [
    "# Exercise 2: Multivariate Linear Regression on the diabetes dataset\n",
    "# Load the diabetes dataset, from 442 diabetes patients\n",
    "diabetes = datasets.load_diabetes()\n",
    "\n",
    "# Let us explore about this dataset\n",
    "# Shape of the dataset\n",
    "print(diabetes.data.shape)\n",
    "\n",
    "# Features (information measurements) of those patients\n",
    "print(\"The features are: \", diabetes.feature_names)"
   ]
  },
  {
   "cell_type": "markdown",
   "metadata": {},
   "source": [
    "Question: How many features are there to consider? And how many variables do we need for the Linear Regression model? Why?\n",
    "\n",
    "Answer: There are 10 features. We need 11 variables (10 variables for the 'coefficients', 1 variable for 'intercept'). The reason we need 'intercept' is based on the plot above, the data is not centered at 0."
   ]
  },
  {
   "cell_type": "code",
   "execution_count": 6,
   "metadata": {},
   "outputs": [
    {
     "name": "stdout",
     "output_type": "stream",
     "text": [
      "Trained coefficients:  [ -35.55683674 -243.1692265   562.75404632  305.47203008 -662.78772128\n",
      "  324.27527477   24.78193291  170.33056502  731.67810787   43.02846824]\n",
      "Trained intercept:  152.5381335195406\n"
     ]
    },
    {
     "data": {
      "image/png": "[encoded data removed]",
      "text/plain": [
       "<Figure size 432x288 with 1 Axes>"
      ]
     },
     "metadata": {
      "needs_background": "light"
     },
     "output_type": "display_data"
    }
   ],
   "source": [
    "# Exercise 2: Multivariable Linear Regression on the diabetes dataset (cont)\n",
    "\n",
    "# Split the train and test set (we will see this function shortly)\n",
    "X_train, X_test, y_train, y_test = train_test_split(diabetes.data, diabetes.target, test_size=0.2, random_state=0)\n",
    "\n",
    "# Linear Regression\n",
    "### YOUR CODE HERE. Fill in the \"None\".\n",
    "# Hint: Define the Linear Regression object 'model'\n",
    "model = LinearRegression()\n",
    "# Hint: Fit the model with the Training data\n",
    "model.fit(X_train, y_train)\n",
    "# Hint: print the coefficients and the intercept\n",
    "print(\"Trained coefficients: \", model.coef_)\n",
    "print(\"Trained intercept: \", model.intercept_)\n",
    "# Hint: 'y_pred' should be the predictions on the test set\n",
    "y_pred = model.predict(X_test)\n",
    "### END OF YOUR CODE.\n",
    "\n",
    "# Since the data is 10-dimensional, it is not possible to visualize the actual data. \n",
    "# However, we can visualize to compare actual values vs. predicted values\n",
    "# plot prediction and actual data\n",
    "plt.plot(y_test, y_pred, '.')\n",
    "\n",
    "# plot a line, a perfect prediction would all fall on this line\n",
    "x = np.linspace(0, 330, 100)\n",
    "y = x\n",
    "plt.plot(x, y) # This is the line x = y, it would be great if our plotted points are near this line.\n",
    "plt.xlabel(\"Actual values\")\n",
    "plt.ylabel(\"Predicted values\")\n",
    "plt.show()"
   ]
  },
  {
   "cell_type": "code",
   "execution_count": 7,
   "metadata": {},
   "outputs": [
    {
     "name": "stdout",
     "output_type": "stream",
     "text": [
      "(1599, 12)\n"
     ]
    },
    {
     "data": {
      "text/html": [
       "<div>\n",
       "<style scoped>\n",
       "    .dataframe tbody tr th:only-of-type {\n",
       "        vertical-align: middle;\n",
       "    }\n",
       "\n",
       "    .dataframe tbody tr th {\n",
       "        vertical-align: top;\n",
       "    }\n",
       "\n",
       "    .dataframe thead th {\n",
       "        text-align: right;\n",
       "    }\n",
       "</style>\n",
       "<table border=\"1\" class=\"dataframe\">\n",
       "  <thead>\n",
       "    <tr style=\"text-align: right;\">\n",
       "      <th></th>\n",
       "      <th>fixed acidity</th>\n",
       "      <th>volatile acidity</th>\n",
       "      <th>citric acid</th>\n",
       "      <th>residual sugar</th>\n",
       "      <th>chlorides</th>\n",
       "      <th>free sulfur dioxide</th>\n",
       "      <th>total sulfur dioxide</th>\n",
       "      <th>density</th>\n",
       "      <th>pH</th>\n",
       "      <th>sulphates</th>\n",
       "      <th>alcohol</th>\n",
       "      <th>quality</th>\n",
       "    </tr>\n",
       "  </thead>\n",
       "  <tbody>\n",
       "    <tr>\n",
       "      <th>count</th>\n",
       "      <td>1599.000000</td>\n",
       "      <td>1599.000000</td>\n",
       "      <td>1599.000000</td>\n",
       "      <td>1599.000000</td>\n",
       "      <td>1599.000000</td>\n",
       "      <td>1599.000000</td>\n",
       "      <td>1599.000000</td>\n",
       "      <td>1599.000000</td>\n",
       "      <td>1599.000000</td>\n",
       "      <td>1599.000000</td>\n",
       "      <td>1599.000000</td>\n",
       "      <td>1599.000000</td>\n",
       "    </tr>\n",
       "    <tr>\n",
       "      <th>mean</th>\n",
       "      <td>8.319637</td>\n",
       "      <td>0.527821</td>\n",
       "      <td>0.270976</td>\n",
       "      <td>2.538806</td>\n",
       "      <td>0.087467</td>\n",
       "      <td>15.874922</td>\n",
       "      <td>46.467792</td>\n",
       "      <td>0.996747</td>\n",
       "      <td>3.311113</td>\n",
       "      <td>0.658149</td>\n",
       "      <td>10.422983</td>\n",
       "      <td>5.636023</td>\n",
       "    </tr>\n",
       "    <tr>\n",
       "      <th>std</th>\n",
       "      <td>1.741096</td>\n",
       "      <td>0.179060</td>\n",
       "      <td>0.194801</td>\n",
       "      <td>1.409928</td>\n",
       "      <td>0.047065</td>\n",
       "      <td>10.460157</td>\n",
       "      <td>32.895324</td>\n",
       "      <td>0.001887</td>\n",
       "      <td>0.154386</td>\n",
       "      <td>0.169507</td>\n",
       "      <td>1.065668</td>\n",
       "      <td>0.807569</td>\n",
       "    </tr>\n",
       "    <tr>\n",
       "      <th>min</th>\n",
       "      <td>4.600000</td>\n",
       "      <td>0.120000</td>\n",
       "      <td>0.000000</td>\n",
       "      <td>0.900000</td>\n",
       "      <td>0.012000</td>\n",
       "      <td>1.000000</td>\n",
       "      <td>6.000000</td>\n",
       "      <td>0.990070</td>\n",
       "      <td>2.740000</td>\n",
       "      <td>0.330000</td>\n",
       "      <td>8.400000</td>\n",
       "      <td>3.000000</td>\n",
       "    </tr>\n",
       "    <tr>\n",
       "      <th>25%</th>\n",
       "      <td>7.100000</td>\n",
       "      <td>0.390000</td>\n",
       "      <td>0.090000</td>\n",
       "      <td>1.900000</td>\n",
       "      <td>0.070000</td>\n",
       "      <td>7.000000</td>\n",
       "      <td>22.000000</td>\n",
       "      <td>0.995600</td>\n",
       "      <td>3.210000</td>\n",
       "      <td>0.550000</td>\n",
       "      <td>9.500000</td>\n",
       "      <td>5.000000</td>\n",
       "    </tr>\n",
       "    <tr>\n",
       "      <th>50%</th>\n",
       "      <td>7.900000</td>\n",
       "      <td>0.520000</td>\n",
       "      <td>0.260000</td>\n",
       "      <td>2.200000</td>\n",
       "      <td>0.079000</td>\n",
       "      <td>14.000000</td>\n",
       "      <td>38.000000</td>\n",
       "      <td>0.996750</td>\n",
       "      <td>3.310000</td>\n",
       "      <td>0.620000</td>\n",
       "      <td>10.200000</td>\n",
       "      <td>6.000000</td>\n",
       "    </tr>\n",
       "    <tr>\n",
       "      <th>75%</th>\n",
       "      <td>9.200000</td>\n",
       "      <td>0.640000</td>\n",
       "      <td>0.420000</td>\n",
       "      <td>2.600000</td>\n",
       "      <td>0.090000</td>\n",
       "      <td>21.000000</td>\n",
       "      <td>62.000000</td>\n",
       "      <td>0.997835</td>\n",
       "      <td>3.400000</td>\n",
       "      <td>0.730000</td>\n",
       "      <td>11.100000</td>\n",
       "      <td>6.000000</td>\n",
       "    </tr>\n",
       "    <tr>\n",
       "      <th>max</th>\n",
       "      <td>15.900000</td>\n",
       "      <td>1.580000</td>\n",
       "      <td>1.000000</td>\n",
       "      <td>15.500000</td>\n",
       "      <td>0.611000</td>\n",
       "      <td>72.000000</td>\n",
       "      <td>289.000000</td>\n",
       "      <td>1.003690</td>\n",
       "      <td>4.010000</td>\n",
       "      <td>2.000000</td>\n",
       "      <td>14.900000</td>\n",
       "      <td>8.000000</td>\n",
       "    </tr>\n",
       "  </tbody>\n",
       "</table>\n",
       "</div>"
      ],
      "text/plain": [
       "       fixed acidity  volatile acidity  citric acid  residual sugar  \\\n",
       "count    1599.000000       1599.000000  1599.000000     1599.000000   \n",
       "mean        8.319637          0.527821     0.270976        2.538806   \n",
       "std         1.741096          0.179060     0.194801        1.409928   \n",
       "min         4.600000          0.120000     0.000000        0.900000   \n",
       "25%         7.100000          0.390000     0.090000        1.900000   \n",
       "50%         7.900000          0.520000     0.260000        2.200000   \n",
       "75%         9.200000          0.640000     0.420000        2.600000   \n",
       "max        15.900000          1.580000     1.000000       15.500000   \n",
       "\n",
       "         chlorides  free sulfur dioxide  total sulfur dioxide      density  \\\n",
       "count  1599.000000          1599.000000           1599.000000  1599.000000   \n",
       "mean      0.087467            15.874922             46.467792     0.996747   \n",
       "std       0.047065            10.460157             32.895324     0.001887   \n",
       "min       0.012000             1.000000              6.000000     0.990070   \n",
       "25%       0.070000             7.000000             22.000000     0.995600   \n",
       "50%       0.079000            14.000000             38.000000     0.996750   \n",
       "75%       0.090000            21.000000             62.000000     0.997835   \n",
       "max       0.611000            72.000000            289.000000     1.003690   \n",
       "\n",
       "                pH    sulphates      alcohol      quality  \n",
       "count  1599.000000  1599.000000  1599.000000  1599.000000  \n",
       "mean      3.311113     0.658149    10.422983     5.636023  \n",
       "std       0.154386     0.169507     1.065668     0.807569  \n",
       "min       2.740000     0.330000     8.400000     3.000000  \n",
       "25%       3.210000     0.550000     9.500000     5.000000  \n",
       "50%       3.310000     0.620000    10.200000     6.000000  \n",
       "75%       3.400000     0.730000    11.100000     6.000000  \n",
       "max       4.010000     2.000000    14.900000     8.000000  "
      ]
     },
     "execution_count": 7,
     "metadata": {},
     "output_type": "execute_result"
    }
   ],
   "source": [
    "# Exercise 3: Predicting wine quality based on various factors\n",
    "\n",
    "# Load the dataset\n",
    "dataset = pd.read_csv('winequality.csv')\n",
    "\n",
    "# Let us explore the dataset\n",
    "print(dataset.shape)\n",
    "dataset.describe()"
   ]
  },
  {
   "cell_type": "markdown",
   "metadata": {},
   "source": [
    "We suspect that the wine quality is dependent on other 11 features: fixed acidity, volatile acidity,... alcohol. Let us see if the linear regression model could help."
   ]
  },
  {
   "cell_type": "code",
   "execution_count": 8,
   "metadata": {},
   "outputs": [
    {
     "data": {
      "text/html": [
       "<div>\n",
       "<style scoped>\n",
       "    .dataframe tbody tr th:only-of-type {\n",
       "        vertical-align: middle;\n",
       "    }\n",
       "\n",
       "    .dataframe tbody tr th {\n",
       "        vertical-align: top;\n",
       "    }\n",
       "\n",
       "    .dataframe thead th {\n",
       "        text-align: right;\n",
       "    }\n",
       "</style>\n",
       "<table border=\"1\" class=\"dataframe\">\n",
       "  <thead>\n",
       "    <tr style=\"text-align: right;\">\n",
       "      <th></th>\n",
       "      <th>Coefficient</th>\n",
       "    </tr>\n",
       "  </thead>\n",
       "  <tbody>\n",
       "    <tr>\n",
       "      <th>fixed acidity</th>\n",
       "      <td>0.041284</td>\n",
       "    </tr>\n",
       "    <tr>\n",
       "      <th>volatile acidity</th>\n",
       "      <td>-1.149528</td>\n",
       "    </tr>\n",
       "    <tr>\n",
       "      <th>citric acid</th>\n",
       "      <td>-0.177927</td>\n",
       "    </tr>\n",
       "    <tr>\n",
       "      <th>residual sugar</th>\n",
       "      <td>0.027870</td>\n",
       "    </tr>\n",
       "    <tr>\n",
       "      <th>chlorides</th>\n",
       "      <td>-1.873407</td>\n",
       "    </tr>\n",
       "    <tr>\n",
       "      <th>free sulfur dioxide</th>\n",
       "      <td>0.002684</td>\n",
       "    </tr>\n",
       "    <tr>\n",
       "      <th>total sulfur dioxide</th>\n",
       "      <td>-0.002777</td>\n",
       "    </tr>\n",
       "    <tr>\n",
       "      <th>density</th>\n",
       "      <td>-31.516666</td>\n",
       "    </tr>\n",
       "    <tr>\n",
       "      <th>pH</th>\n",
       "      <td>-0.254486</td>\n",
       "    </tr>\n",
       "    <tr>\n",
       "      <th>sulphates</th>\n",
       "      <td>0.924040</td>\n",
       "    </tr>\n",
       "    <tr>\n",
       "      <th>alcohol</th>\n",
       "      <td>0.267797</td>\n",
       "    </tr>\n",
       "  </tbody>\n",
       "</table>\n",
       "</div>"
      ],
      "text/plain": [
       "                      Coefficient\n",
       "fixed acidity            0.041284\n",
       "volatile acidity        -1.149528\n",
       "citric acid             -0.177927\n",
       "residual sugar           0.027870\n",
       "chlorides               -1.873407\n",
       "free sulfur dioxide      0.002684\n",
       "total sulfur dioxide    -0.002777\n",
       "density                -31.516666\n",
       "pH                      -0.254486\n",
       "sulphates                0.924040\n",
       "alcohol                  0.267797"
      ]
     },
     "execution_count": 8,
     "metadata": {},
     "output_type": "execute_result"
    }
   ],
   "source": [
    "# Exercise 3: Predicting wine quality based on various factors (cont)\n",
    "\n",
    "# Clean up the data by removing all null values\n",
    "dataset = dataset.fillna(method='ffill')\n",
    "\n",
    "# Devide attributes/features and output vales\n",
    "# Features\n",
    "X = dataset[['fixed acidity', 'volatile acidity', 'citric acid', 'residual sugar', 'chlorides', \n",
    "             'free sulfur dioxide', 'total sulfur dioxide', 'density', 'pH', 'sulphates','alcohol']].values\n",
    "# Output values\n",
    "y = dataset['quality'].values\n",
    "\n",
    "# Split the train and test set (will see this function shortly)\n",
    "X_train, X_test, y_train, y_test = train_test_split(X, y, test_size=0.2, random_state=0)\n",
    "\n",
    "# Linear Regression\n",
    "### YOUR CODE HERE. Fill in the \"None\"\n",
    "# Hint: Define a simple Linear Regression model\n",
    "regressor = LinearRegression()  \n",
    "# Hint: train the model on the train set\n",
    "regressor.fit(X_train, y_train)\n",
    "# Print coefficients associated with 12 features. Hint: the first parameter of the function must be the coefficients\n",
    "coeff_df = pd.DataFrame(regressor.coef_, dataset.columns[:-1], columns=['Coefficient']) \n",
    "### END OF YOUR CODE.\n",
    "\n",
    "# Show the learned coefficients\n",
    "coeff_df"
   ]
  },
  {
   "cell_type": "markdown",
   "metadata": {},
   "source": [
    "We can see that 'density' has the most significant negative relationship with 'quality'."
   ]
  },
  {
   "cell_type": "code",
   "execution_count": 9,
   "metadata": {},
   "outputs": [
    {
     "data": {
      "text/html": [
       "<div>\n",
       "<style scoped>\n",
       "    .dataframe tbody tr th:only-of-type {\n",
       "        vertical-align: middle;\n",
       "    }\n",
       "\n",
       "    .dataframe tbody tr th {\n",
       "        vertical-align: top;\n",
       "    }\n",
       "\n",
       "    .dataframe thead th {\n",
       "        text-align: right;\n",
       "    }\n",
       "</style>\n",
       "<table border=\"1\" class=\"dataframe\">\n",
       "  <thead>\n",
       "    <tr style=\"text-align: right;\">\n",
       "      <th></th>\n",
       "      <th>Actual</th>\n",
       "      <th>Predicted</th>\n",
       "    </tr>\n",
       "  </thead>\n",
       "  <tbody>\n",
       "    <tr>\n",
       "      <th>0</th>\n",
       "      <td>6</td>\n",
       "      <td>5.782930</td>\n",
       "    </tr>\n",
       "    <tr>\n",
       "      <th>1</th>\n",
       "      <td>5</td>\n",
       "      <td>5.036193</td>\n",
       "    </tr>\n",
       "    <tr>\n",
       "      <th>2</th>\n",
       "      <td>7</td>\n",
       "      <td>6.596989</td>\n",
       "    </tr>\n",
       "    <tr>\n",
       "      <th>3</th>\n",
       "      <td>6</td>\n",
       "      <td>5.339126</td>\n",
       "    </tr>\n",
       "    <tr>\n",
       "      <th>4</th>\n",
       "      <td>5</td>\n",
       "      <td>5.939529</td>\n",
       "    </tr>\n",
       "    <tr>\n",
       "      <th>5</th>\n",
       "      <td>6</td>\n",
       "      <td>5.007207</td>\n",
       "    </tr>\n",
       "    <tr>\n",
       "      <th>6</th>\n",
       "      <td>5</td>\n",
       "      <td>5.396162</td>\n",
       "    </tr>\n",
       "    <tr>\n",
       "      <th>7</th>\n",
       "      <td>6</td>\n",
       "      <td>6.052112</td>\n",
       "    </tr>\n",
       "    <tr>\n",
       "      <th>8</th>\n",
       "      <td>4</td>\n",
       "      <td>4.867603</td>\n",
       "    </tr>\n",
       "    <tr>\n",
       "      <th>9</th>\n",
       "      <td>5</td>\n",
       "      <td>4.950676</td>\n",
       "    </tr>\n",
       "    <tr>\n",
       "      <th>10</th>\n",
       "      <td>5</td>\n",
       "      <td>5.285804</td>\n",
       "    </tr>\n",
       "    <tr>\n",
       "      <th>11</th>\n",
       "      <td>5</td>\n",
       "      <td>5.412653</td>\n",
       "    </tr>\n",
       "    <tr>\n",
       "      <th>12</th>\n",
       "      <td>6</td>\n",
       "      <td>5.705742</td>\n",
       "    </tr>\n",
       "    <tr>\n",
       "      <th>13</th>\n",
       "      <td>5</td>\n",
       "      <td>5.129217</td>\n",
       "    </tr>\n",
       "    <tr>\n",
       "      <th>14</th>\n",
       "      <td>6</td>\n",
       "      <td>5.528852</td>\n",
       "    </tr>\n",
       "    <tr>\n",
       "      <th>15</th>\n",
       "      <td>6</td>\n",
       "      <td>6.380524</td>\n",
       "    </tr>\n",
       "    <tr>\n",
       "      <th>16</th>\n",
       "      <td>7</td>\n",
       "      <td>6.810125</td>\n",
       "    </tr>\n",
       "    <tr>\n",
       "      <th>17</th>\n",
       "      <td>5</td>\n",
       "      <td>5.738033</td>\n",
       "    </tr>\n",
       "    <tr>\n",
       "      <th>18</th>\n",
       "      <td>5</td>\n",
       "      <td>5.976188</td>\n",
       "    </tr>\n",
       "    <tr>\n",
       "      <th>19</th>\n",
       "      <td>4</td>\n",
       "      <td>5.086134</td>\n",
       "    </tr>\n",
       "    <tr>\n",
       "      <th>20</th>\n",
       "      <td>7</td>\n",
       "      <td>6.344799</td>\n",
       "    </tr>\n",
       "    <tr>\n",
       "      <th>21</th>\n",
       "      <td>6</td>\n",
       "      <td>5.164010</td>\n",
       "    </tr>\n",
       "    <tr>\n",
       "      <th>22</th>\n",
       "      <td>6</td>\n",
       "      <td>5.642040</td>\n",
       "    </tr>\n",
       "    <tr>\n",
       "      <th>23</th>\n",
       "      <td>4</td>\n",
       "      <td>6.146290</td>\n",
       "    </tr>\n",
       "    <tr>\n",
       "      <th>24</th>\n",
       "      <td>6</td>\n",
       "      <td>5.481780</td>\n",
       "    </tr>\n",
       "  </tbody>\n",
       "</table>\n",
       "</div>"
      ],
      "text/plain": [
       "    Actual  Predicted\n",
       "0        6   5.782930\n",
       "1        5   5.036193\n",
       "2        7   6.596989\n",
       "3        6   5.339126\n",
       "4        5   5.939529\n",
       "5        6   5.007207\n",
       "6        5   5.396162\n",
       "7        6   6.052112\n",
       "8        4   4.867603\n",
       "9        5   4.950676\n",
       "10       5   5.285804\n",
       "11       5   5.412653\n",
       "12       6   5.705742\n",
       "13       5   5.129217\n",
       "14       6   5.528852\n",
       "15       6   6.380524\n",
       "16       7   6.810125\n",
       "17       5   5.738033\n",
       "18       5   5.976188\n",
       "19       4   5.086134\n",
       "20       7   6.344799\n",
       "21       6   5.164010\n",
       "22       6   5.642040\n",
       "23       4   6.146290\n",
       "24       6   5.481780"
      ]
     },
     "execution_count": 9,
     "metadata": {},
     "output_type": "execute_result"
    }
   ],
   "source": [
    "# Exercise 3: Predicting wine quality based on various factors (cont)\n",
    "# Do prediction on the data.\n",
    "### YOUR CODE HERE. Fill in the \"None\".\n",
    "# Hint: \"y_pred\" should be the values predicted by the trained Linear Regression model on the test data\n",
    "y_pred = regressor.predict(X_test)\n",
    "### END OF YOUR CODE\n",
    "\n",
    "# Compare actual and predicted values\n",
    "df = pd.DataFrame({'Actual': y_test, 'Predicted': y_pred})\n",
    "df1 = df.head(25)\n",
    "df1"
   ]
  },
  {
   "cell_type": "markdown",
   "metadata": {},
   "source": [
    "# 1.Linear Regression\n",
    "\n",
    "---------------------------------------\n",
    "\n",
    "## b. Lasso Linear Regression\n",
    "\n",
    "------------------\n",
    "\n",
    "### Lasso(alpha = 1.0, fit_intercept = True, normalize = False, max_iter=1000)\n",
    "*  Return a Lasso L1-regularized least squares Linear Regression object.\n",
    " \n",
    "* #### Parameters\n",
    " 1.    alpha: constant multiplied with the L1-regularizer term. alpha = 0 is equivalent to ordinary Linear Regression.\n",
    " 2.    fit_intercept: whether to calculate the intercept. True/False. default True\n",
    " 3.    normalize: whether to normalize the X regressors before fitting. True/False. default False. \n",
    "         ignored when fit_intercept is set to be True\n",
    " 4.    max_iter: the maximum number of iterations\n",
    " \n",
    "*  #### Attributes (of the LinearRegression object):\n",
    " *    coef_: estimated coefficients for the linear regression problem.\n",
    " *    intercept_: array of indepentdent term in the linear model.\n",
    " \n",
    "*  #### Methods (on the LinearRegression object)\n",
    " *    fit(X, y) : fit the linear model: y = aX + b\n",
    " *    get_params: return the parameters for the linear regression estimator.\n",
    " *    predict(X): predict using the linear model\n",
    " *    set_params: set parameters for this estimator."
   ]
  },
  {
   "cell_type": "markdown",
   "metadata": {},
   "source": [
    "Let us go back to the example of height and weight and see how Lasso regularization affects the result."
   ]
  },
  {
   "cell_type": "code",
   "execution_count": 10,
   "metadata": {},
   "outputs": [
    {
     "name": "stdout",
     "output_type": "stream",
     "text": [
      "slope= 8.76993166287016 intercept= 7.41457858769931\n"
     ]
    },
    {
     "data": {
      "image/png": "[encoded data removed]",
      "text/plain": [
       "<Figure size 432x288 with 1 Axes>"
      ]
     },
     "metadata": {
      "needs_background": "light"
     },
     "output_type": "display_data"
    }
   ],
   "source": [
    "# Example: Predicting relationship between height and weight using Lasso regression\n",
    "height=[[4.0],[4.5],[5.0],[5.2],[5.4],[5.8],[6.1],[6.2],[6.4],[6.8]]\n",
    "weight=[  42 ,  44 , 49, 55  , 53  , 58   , 60  , 64  ,  66 ,  69]\n",
    "\n",
    "# Define the Linear Regression object\n",
    "reg=Lasso()\n",
    "\n",
    "# Fit the Lasso Linear Regresison model on our dataset\n",
    "reg.fit(height,weight)\n",
    "\n",
    "# Print slope and intercept\n",
    "a=reg.coef_[0]\n",
    "b=reg.intercept_\n",
    "print(\"slope=\",a, \"intercept=\",b)\n",
    "\n",
    "# Plot the result\n",
    "plt.scatter(height,weight,color='black')\n",
    "predicted_values = [reg.coef_ * i + reg.intercept_ for i in height]\n",
    "plt.plot(height, predicted_values, 'b')\n",
    "plt.xlabel(\"height\")\n",
    "plt.ylabel(\"weight\")\n",
    "plt.show()"
   ]
  },
  {
   "cell_type": "markdown",
   "metadata": {},
   "source": [
    "You may notice that the values of slope and intercept are slightly different from that of example in Section 1.a. This is due to the effect of the Lasso regularization term."
   ]
  },
  {
   "cell_type": "markdown",
   "metadata": {},
   "source": [
    "Practice: Try different values of alpha to see the effect on the fitted line. Try to find at least 1 value for 'underfitting' and 1 value for 'overfitting'!"
   ]
  },
  {
   "cell_type": "code",
   "execution_count": 21,
   "metadata": {},
   "outputs": [
    {
     "name": "stdout",
     "output_type": "stream",
     "text": [
      "<class 'pandas.core.frame.DataFrame'>\n",
      "Int64Index: 263 entries, 1 to 321\n",
      "Data columns (total 16 columns):\n",
      "AtBat      263 non-null float64\n",
      "Hits       263 non-null float64\n",
      "HmRun      263 non-null float64\n",
      "Runs       263 non-null float64\n",
      "RBI        263 non-null float64\n",
      "Walks      263 non-null float64\n",
      "Years      263 non-null float64\n",
      "CAtBat     263 non-null float64\n",
      "CHits      263 non-null float64\n",
      "CHmRun     263 non-null float64\n",
      "CRuns      263 non-null float64\n",
      "CRBI       263 non-null float64\n",
      "CWalks     263 non-null float64\n",
      "PutOuts    263 non-null float64\n",
      "Assists    263 non-null float64\n",
      "Errors     263 non-null float64\n",
      "dtypes: float64(16)\n",
      "memory usage: 34.9 KB\n"
     ]
    }
   ],
   "source": [
    "# Exercise 1: Ordinary linear regression vs. Lasso linear regression\n",
    "\n",
    "# Read the data and remove rows with 'NaN' values.\n",
    "df = pd.read_csv('Hitters.csv').dropna()\n",
    "\n",
    "y = df.Salary\n",
    "\n",
    "# Drop the column with the independent variable (Salary), and columns for which we created dummy variables\n",
    "X_ = df.drop(['Salary', 'League', 'Division', 'NewLeague'], axis = 1).astype('float64')\n",
    "\n",
    "# Some insights into the data\n",
    "X_.info()"
   ]
  },
  {
   "cell_type": "code",
   "execution_count": 22,
   "metadata": {},
   "outputs": [
    {
     "data": {
      "image/png": "[encoded data removed]",
      "text/plain": [
       "<Figure size 432x288 with 1 Axes>"
      ]
     },
     "metadata": {
      "needs_background": "light"
     },
     "output_type": "display_data"
    }
   ],
   "source": [
    "# Exercise 1: Ordinary linear regression vs. Lasso linear regression (cont)\n",
    "\n",
    "# Split data into training and test sets (will see this function shortly)\n",
    "X_train, X_test , y_train, y_test = train_test_split(X_, y, test_size=0.5, random_state=1)\n",
    "\n",
    "# Range of regularization weight alpha:\n",
    "alphas = 10**np.linspace(10,-2,100)*0.5\n",
    "\n",
    "# Lasso regression with different values for 'alpha'\n",
    "### YOUR CODE HERE. Fill in the \"None\".\n",
    "# Hint: define 'lasso' as a Lasso Linear Regression object with maximum 10000 iterations, AND normalization.\n",
    "lasso = Lasso(max_iter = 10000, normalize = True)\n",
    "coefs = []\n",
    "\n",
    "for a in alphas:    # Iterate through all values in 'alphas'\n",
    "    # Hint: set our Lasso Linear Regression model to have weight of regularization equal to a\n",
    "    lasso.set_params(alpha=a)\n",
    "    # Hint: fit our model to the data.\n",
    "    lasso.fit(X_train, y_train)\n",
    "    # Hint: append the learned variables into our list 'coefs'\n",
    "    coefs.append(lasso.coef_)\n",
    "### END OF YOUR CODE.\n",
    "\n",
    "# Plot the weight learned with different values of alphas\n",
    "plt.plot(alphas*2, coefs)\n",
    "plt.xscale('log')\n",
    "plt.axis('tight')\n",
    "plt.xlabel('alpha')\n",
    "plt.ylabel('weights')\n",
    "plt.show()"
   ]
  },
  {
   "cell_type": "code",
   "execution_count": 23,
   "metadata": {},
   "outputs": [
    {
     "name": "stdout",
     "output_type": "stream",
     "text": [
      "Error of Lasso regression with alpha value 2.2410206769492604 is:  111160.39367053009\n",
      "Error of ordinary linear regression is:  120478.0083988313\n"
     ]
    }
   ],
   "source": [
    "# Exercise 1: Ordinary linear regression vs. Lasso linear regression (cont)\n",
    "\n",
    "# Choose a 'good' value for alpha. You will see how we can find this value shortly.\n",
    "best_alpha = 2.2410206769492604\n",
    "\n",
    "# Let us apply the 'best_alpha' on our Lasso Linear Regression model\n",
    "### YOUR CODE HERE. Fill in the \"None\".\n",
    "# Hint: set this value for 'alpha' in our previously defined Lasso Linear Regression object.\n",
    "lasso.set_params(alpha=best_alpha)\n",
    "# Hint: train the model on the training data\n",
    "lasso.fit(X_train, y_train)\n",
    "# Hint: predict values for the test data\n",
    "y_pred = lasso.predict(X_test)\n",
    "### END OF YOUR CODE.\n",
    "\n",
    "# Compute Mean-squarred-error:\n",
    "print(\"Error of Lasso regression with alpha value \" + str(best_alpha) + \" is:  \" + str(mean_squared_error(y_test, y_pred)))\n",
    "\n",
    "# Let us compare this result with Ordinary Lasso Linear Regression model\n",
    "# YOUR CODE HERE. Fill in the \"None\"\n",
    "# Hint: how to define an ordinary linear regression model with normalization?\n",
    "ordinary = LinearRegression(normalize = True)\n",
    "# Hint: train the model on training data\n",
    "ordinary.fit(X_train, y_train)             # Fit a ridge regression on the training data\n",
    "# Hint: use the trained model to predict the value for test data\n",
    "y_pred = ordinary.predict(X_test)            # Use this model to predict the test data\n",
    "## END OF YOUR CODE.\n",
    "# Compute Mean-squarred-error:\n",
    "print(\"Error of ordinary linear regression is:  \" + str(mean_squared_error(y_test, y_pred)))"
   ]
  },
  {
   "cell_type": "markdown",
   "metadata": {},
   "source": [
    "Question: Which model worked better here?\n",
    "\n",
    "Answer: Clearly Lasso model, with a carefully chosen alpha, resulting in a lower Mean-squarred Error.\n"
   ]
  },
  {
   "cell_type": "markdown",
   "metadata": {},
   "source": [
    "Question: What is one of the most significant characteristics of Lasso linear regression?\n",
    "\n",
    "Answer: \"least absolute shrinkage and selection operator\". Sparsity ~ many learned variables have value ZERO. \n",
    "Let us see if this is indeed the case."
   ]
  },
  {
   "cell_type": "code",
   "execution_count": 24,
   "metadata": {},
   "outputs": [
    {
     "data": {
      "text/plain": [
       "AtBat      0.000000\n",
       "Hits       0.951516\n",
       "HmRun      0.000000\n",
       "Runs       0.000000\n",
       "RBI        0.402763\n",
       "Walks      2.774631\n",
       "Years      0.000000\n",
       "CAtBat     0.000000\n",
       "CHits      0.000000\n",
       "CHmRun     0.268635\n",
       "CRuns      0.000000\n",
       "CRBI       0.492185\n",
       "CWalks     0.000000\n",
       "PutOuts    0.394770\n",
       "Assists    0.000000\n",
       "Errors    -0.000000\n",
       "dtype: float64"
      ]
     },
     "execution_count": 24,
     "metadata": {},
     "output_type": "execute_result"
    }
   ],
   "source": [
    "# YOUR CODE HERE. Fill in the \"None\".\n",
    "# Hint: the first parameter must the learned coefficients of the model.\n",
    "pd.Series(lasso.coef_, index=X_.columns)\n",
    "### END OF YOUR CODE."
   ]
  },
  {
   "cell_type": "code",
   "execution_count": 25,
   "metadata": {},
   "outputs": [
    {
     "data": {
      "image/png": "[encoded data removed]",
      "text/plain": [
       "<Figure size 432x288 with 1 Axes>"
      ]
     },
     "metadata": {
      "needs_background": "light"
     },
     "output_type": "display_data"
    }
   ],
   "source": [
    "# Exercise 2: Effect of regularization weight on capacity of Lasso linear regression model.\n",
    "# sign 함수처럼 막 찍어놓은 data 들\n",
    "#Define input array with angles from 60deg to 300deg converted to radians\n",
    "x = np.array([i*np.pi/180 for i in range(60,300,4)])\n",
    "np.random.seed(10)  #Setting seed for reproducability\n",
    "y = np.sin(x) + np.random.normal(0,0.15,len(x))\n",
    "data = pd.DataFrame(np.column_stack([x,y]),columns=['x','y'])\n",
    "plt.plot(data['x'],data['y'],'.')\n",
    "plt.show()"
   ]
  },
  {
   "cell_type": "markdown",
   "metadata": {},
   "source": [
    "This is the curve of a sine wave, but with noise. Let us try to approximate this curve by Lasso polynomial regression."
   ]
  },
  {
   "cell_type": "code",
   "execution_count": 26,
   "metadata": {},
   "outputs": [
    {
     "name": "stdout",
     "output_type": "stream",
     "text": [
      "          x         y       x_2       x_3       x_4       x_5       x_6  \\\n",
      "0  1.047198  1.065763  1.096623  1.148381  1.202581  1.259340  1.318778   \n",
      "1  1.117011  1.006086  1.247713  1.393709  1.556788  1.738948  1.942424   \n",
      "2  1.186824  0.695374  1.408551  1.671702  1.984016  2.354677  2.794587   \n",
      "3  1.256637  0.949799  1.579137  1.984402  2.493673  3.133642  3.937850   \n",
      "4  1.326450  1.063496  1.759470  2.333850  3.095735  4.106339  5.446854   \n",
      "\n",
      "        x_7       x_8        x_9       x_10       x_11       x_12       x_13  \\\n",
      "0  1.381021  1.446202   1.514459   1.585938   1.660790   1.739176   1.821260   \n",
      "1  2.169709  2.423588   2.707173   3.023942   3.377775   3.773011   4.214494   \n",
      "2  3.316683  3.936319   4.671717   5.544505   6.580351   7.809718   9.268760   \n",
      "3  4.948448  6.218404   7.814277   9.819710  12.339811  15.506664  19.486248   \n",
      "4  7.224981  9.583578  12.712139  16.862020  22.366630  29.668222  39.353420   \n",
      "\n",
      "        x_14       x_15  \n",
      "0   1.907219   1.997235  \n",
      "1   4.707635   5.258479  \n",
      "2  11.000386  13.055521  \n",
      "3  24.487142  30.771450  \n",
      "4  52.200353  69.241170  \n"
     ]
    }
   ],
   "source": [
    "# Exercise 2: Effect of regularization weight on capacity of Lasso linear regression model (cont)\n",
    "# x^2 ~ x^15 을 추가로 더 쓸 것. sign graph 따라가게 하기 위해 만들어놓은 것. 이것들이 곱해져서 y 를 만들 것.\n",
    "# linear / lasso 로 한번 접근해볼 것.\n",
    "# Construct the 'features', which are just powers of the x-component\n",
    "for i in range(2,16):  #power of 1 is already there\n",
    "    colname = 'x_%d'%i      #new var will be x_power\n",
    "    data[colname] = data['x']**i\n",
    "print (data.head())"
   ]
  },
  {
   "cell_type": "code",
   "execution_count": 27,
   "metadata": {},
   "outputs": [],
   "source": [
    "# Exercise 2: Effect of regularization weight on capacity of Lasso linear regression model (cont)\n",
    "\n",
    "# Define a helper function here, with Lasso regression and plot\n",
    "def lasso_regression(data, predictors, alpha, models_to_plot={}):\n",
    "    ### YOUR CODE HERE. Fill in the None. \n",
    "    # NOTE: at this stage, I expect the students to be familiar with the 3-step process\n",
    "    # define Lasso object -->> fit (to train) --> predict (to predict value)\n",
    "    # Hint: parameter alpha is the weight of regularization; we use normalization, maximum 100000 iterations. \n",
    "    # Hint: training data is (data[predictors], data['y']). 'y_pred' is predicted value when applying the model on data[predictors]\n",
    "    lassoreg = Lasso(alpha=alpha,normalize=True, max_iter=1e5, tol=0.01) #tol 수렴 조건 threshold 크게 중요하지 않음..\n",
    "    lassoreg.fit(data[predictors],data['y'])\n",
    "    y_pred = lassoreg.predict(data[predictors])\n",
    "    \n",
    "    #Check if a plot is to be made for the entered alpha\n",
    "    if alpha in models_to_plot:\n",
    "        plt.subplot(models_to_plot[alpha])\n",
    "        plt.tight_layout()\n",
    "        plt.plot(data['x'],y_pred)\n",
    "        plt.plot(data['x'],data['y'],'.')\n",
    "        plt.title('Plot for alpha: %.3g'%alpha)\n",
    "    \n",
    "    #Return the result in pre-defined format\n",
    "    rss = sum((y_pred-data['y'])**2)\n",
    "    ret = [rss]\n",
    "    # Hint: learned intercept of the model\n",
    "    ret.extend([lassoreg.intercept_])\n",
    "    # Hint: learned coefficients of the model\n",
    "    ret.extend(lassoreg.coef_)\n",
    "    ### END OF YOUR CODE.\n",
    "\n",
    "    return ret"
   ]
  },
  {
   "cell_type": "code",
   "execution_count": 29,
   "metadata": {},
   "outputs": [
    {
     "data": {
      "image/png": "[encoded data removed]",
      "text/plain": [
       "<Figure size 432x288 with 6 Axes>"
      ]
     },
     "metadata": {
      "needs_background": "light"
     },
     "output_type": "display_data"
    }
   ],
   "source": [
    "# Exercise 2: Effect of regularization weight on capacity of Lasso linear regression model (cont)\n",
    "\n",
    "#Initialize predictors to all 15 powers of x\n",
    "predictors=['x']\n",
    "predictors.extend(['x_%d'%i for i in range(2,16)])\n",
    "\n",
    "#Define the alpha values to test\n",
    "alpha_lasso = [1e-6, 1e-5, 1e-4, 1e-3, 1e-2, 1e-1, 1, 5, 10, 20]\n",
    "\n",
    "#Initialize the dataframe to store coefficients\n",
    "col = ['rss','intercept'] + ['coef_x_%d'%i for i in range(1,16)]\n",
    "ind = ['alpha_%.2g'%alpha_lasso[i] for i in range(0,10)]\n",
    "coef_matrix_lasso = pd.DataFrame(index=ind, columns=col)\n",
    "\n",
    "#Define the models to plot\n",
    "models_to_plot = {1e-6:231, 1e-5:232,1e-4:233, 1e-3:234, 1e-2:235, 1:236}\n",
    "\n",
    "#Iterate over the 10 alpha values:\n",
    "for i in range(10):\n",
    "    coef_matrix_lasso.iloc[i,] = lasso_regression(data, predictors, alpha_lasso[i], models_to_plot)\n",
    "# alpha 값이 커짐에 따라서, 0으로 바뀜. 처음에 overfitting 되다가 조금씩 비슷해졌다가 나중에 다시 underfitting 되는 경향이 보임.\n",
    "plt.show()"
   ]
  },
  {
   "cell_type": "markdown",
   "metadata": {},
   "source": [
    "Observe how different values of 'alpha' can lead to different capacity of the Lasso Linear Regression model.\n",
    "\n",
    "Question: can you see what happened for the plot for each of the six values of alpha?\n",
    "\n",
    "Answer: overfitting, overfitting, (slightly) overfitting, normal, underfitting, underfitting, respectively."
   ]
  },
  {
   "cell_type": "code",
   "execution_count": 30,
   "metadata": {},
   "outputs": [
    {
     "data": {
      "text/html": [
       "<div>\n",
       "<style scoped>\n",
       "    .dataframe tbody tr th:only-of-type {\n",
       "        vertical-align: middle;\n",
       "    }\n",
       "\n",
       "    .dataframe tbody tr th {\n",
       "        vertical-align: top;\n",
       "    }\n",
       "\n",
       "    .dataframe thead th {\n",
       "        text-align: right;\n",
       "    }\n",
       "</style>\n",
       "<table border=\"1\" class=\"dataframe\">\n",
       "  <thead>\n",
       "    <tr style=\"text-align: right;\">\n",
       "      <th></th>\n",
       "      <th>rss</th>\n",
       "      <th>intercept</th>\n",
       "      <th>coef_x_1</th>\n",
       "      <th>coef_x_2</th>\n",
       "      <th>coef_x_3</th>\n",
       "      <th>coef_x_4</th>\n",
       "      <th>coef_x_5</th>\n",
       "      <th>coef_x_6</th>\n",
       "      <th>coef_x_7</th>\n",
       "      <th>coef_x_8</th>\n",
       "      <th>coef_x_9</th>\n",
       "      <th>coef_x_10</th>\n",
       "      <th>coef_x_11</th>\n",
       "      <th>coef_x_12</th>\n",
       "      <th>coef_x_13</th>\n",
       "      <th>coef_x_14</th>\n",
       "      <th>coef_x_15</th>\n",
       "    </tr>\n",
       "  </thead>\n",
       "  <tbody>\n",
       "    <tr>\n",
       "      <th>alpha_1e-06</th>\n",
       "      <td>0.964781</td>\n",
       "      <td>0.248155</td>\n",
       "      <td>0.924816</td>\n",
       "      <td>-0.243249</td>\n",
       "      <td>-0.0251592</td>\n",
       "      <td>-0.00141872</td>\n",
       "      <td>9.96634e-05</td>\n",
       "      <td>7.76735e-05</td>\n",
       "      <td>1.8469e-05</td>\n",
       "      <td>3.48988e-06</td>\n",
       "      <td>5.62855e-07</td>\n",
       "      <td>7.56621e-08</td>\n",
       "      <td>6.98632e-09</td>\n",
       "      <td>1.95872e-10</td>\n",
       "      <td>-2.80914e-10</td>\n",
       "      <td>-1.25254e-10</td>\n",
       "      <td>-3.47346e-11</td>\n",
       "    </tr>\n",
       "    <tr>\n",
       "      <th>alpha_1e-05</th>\n",
       "      <td>0.978394</td>\n",
       "      <td>0.25157</td>\n",
       "      <td>0.97713</td>\n",
       "      <td>-0.28302</td>\n",
       "      <td>-0.0222008</td>\n",
       "      <td>-0.000322868</td>\n",
       "      <td>0.000204696</td>\n",
       "      <td>8.71358e-05</td>\n",
       "      <td>1.66058e-05</td>\n",
       "      <td>2.65469e-06</td>\n",
       "      <td>3.63298e-07</td>\n",
       "      <td>3.90393e-08</td>\n",
       "      <td>1.70119e-09</td>\n",
       "      <td>0</td>\n",
       "      <td>-1.98447e-10</td>\n",
       "      <td>-8.84045e-11</td>\n",
       "      <td>-2.21833e-11</td>\n",
       "    </tr>\n",
       "    <tr>\n",
       "      <th>alpha_0.0001</th>\n",
       "      <td>1.2878</td>\n",
       "      <td>0.999873</td>\n",
       "      <td>0.268535</td>\n",
       "      <td>-0.150048</td>\n",
       "      <td>-0.0126754</td>\n",
       "      <td>-5.54927e-05</td>\n",
       "      <td>0</td>\n",
       "      <td>2.85818e-05</td>\n",
       "      <td>9.89713e-06</td>\n",
       "      <td>1.51977e-06</td>\n",
       "      <td>1.97952e-07</td>\n",
       "      <td>1.93401e-08</td>\n",
       "      <td>3.26316e-10</td>\n",
       "      <td>0</td>\n",
       "      <td>-0</td>\n",
       "      <td>-0</td>\n",
       "      <td>-9.11461e-12</td>\n",
       "    </tr>\n",
       "    <tr>\n",
       "      <th>alpha_0.001</th>\n",
       "      <td>1.87245</td>\n",
       "      <td>1.54619</td>\n",
       "      <td>-0.238848</td>\n",
       "      <td>-0.0658164</td>\n",
       "      <td>-0.00371591</td>\n",
       "      <td>-0</td>\n",
       "      <td>-0</td>\n",
       "      <td>0</td>\n",
       "      <td>0</td>\n",
       "      <td>0</td>\n",
       "      <td>0</td>\n",
       "      <td>2.40422e-08</td>\n",
       "      <td>4.75138e-09</td>\n",
       "      <td>6.65578e-10</td>\n",
       "      <td>8.55275e-11</td>\n",
       "      <td>9.31046e-12</td>\n",
       "      <td>6.05659e-13</td>\n",
       "    </tr>\n",
       "    <tr>\n",
       "      <th>alpha_0.01</th>\n",
       "      <td>3.63858</td>\n",
       "      <td>1.76388</td>\n",
       "      <td>-0.555353</td>\n",
       "      <td>-4.87174e-05</td>\n",
       "      <td>-0</td>\n",
       "      <td>-0</td>\n",
       "      <td>-0</td>\n",
       "      <td>-0</td>\n",
       "      <td>-0</td>\n",
       "      <td>-0</td>\n",
       "      <td>-0</td>\n",
       "      <td>0</td>\n",
       "      <td>0</td>\n",
       "      <td>0</td>\n",
       "      <td>0</td>\n",
       "      <td>0</td>\n",
       "      <td>0</td>\n",
       "    </tr>\n",
       "    <tr>\n",
       "      <th>alpha_0.1</th>\n",
       "      <td>36.948</td>\n",
       "      <td>0.038032</td>\n",
       "      <td>-0</td>\n",
       "      <td>-0</td>\n",
       "      <td>-0</td>\n",
       "      <td>-0</td>\n",
       "      <td>-0</td>\n",
       "      <td>-0</td>\n",
       "      <td>-0</td>\n",
       "      <td>-0</td>\n",
       "      <td>-0</td>\n",
       "      <td>-0</td>\n",
       "      <td>-0</td>\n",
       "      <td>-0</td>\n",
       "      <td>-0</td>\n",
       "      <td>-0</td>\n",
       "      <td>-0</td>\n",
       "    </tr>\n",
       "    <tr>\n",
       "      <th>alpha_1</th>\n",
       "      <td>36.948</td>\n",
       "      <td>0.038032</td>\n",
       "      <td>-0</td>\n",
       "      <td>-0</td>\n",
       "      <td>-0</td>\n",
       "      <td>-0</td>\n",
       "      <td>-0</td>\n",
       "      <td>-0</td>\n",
       "      <td>-0</td>\n",
       "      <td>-0</td>\n",
       "      <td>-0</td>\n",
       "      <td>-0</td>\n",
       "      <td>-0</td>\n",
       "      <td>-0</td>\n",
       "      <td>-0</td>\n",
       "      <td>-0</td>\n",
       "      <td>-0</td>\n",
       "    </tr>\n",
       "    <tr>\n",
       "      <th>alpha_5</th>\n",
       "      <td>36.948</td>\n",
       "      <td>0.038032</td>\n",
       "      <td>-0</td>\n",
       "      <td>-0</td>\n",
       "      <td>-0</td>\n",
       "      <td>-0</td>\n",
       "      <td>-0</td>\n",
       "      <td>-0</td>\n",
       "      <td>-0</td>\n",
       "      <td>-0</td>\n",
       "      <td>-0</td>\n",
       "      <td>-0</td>\n",
       "      <td>-0</td>\n",
       "      <td>-0</td>\n",
       "      <td>-0</td>\n",
       "      <td>-0</td>\n",
       "      <td>-0</td>\n",
       "    </tr>\n",
       "    <tr>\n",
       "      <th>alpha_10</th>\n",
       "      <td>36.948</td>\n",
       "      <td>0.038032</td>\n",
       "      <td>-0</td>\n",
       "      <td>-0</td>\n",
       "      <td>-0</td>\n",
       "      <td>-0</td>\n",
       "      <td>-0</td>\n",
       "      <td>-0</td>\n",
       "      <td>-0</td>\n",
       "      <td>-0</td>\n",
       "      <td>-0</td>\n",
       "      <td>-0</td>\n",
       "      <td>-0</td>\n",
       "      <td>-0</td>\n",
       "      <td>-0</td>\n",
       "      <td>-0</td>\n",
       "      <td>-0</td>\n",
       "    </tr>\n",
       "    <tr>\n",
       "      <th>alpha_20</th>\n",
       "      <td>36.948</td>\n",
       "      <td>0.038032</td>\n",
       "      <td>-0</td>\n",
       "      <td>-0</td>\n",
       "      <td>-0</td>\n",
       "      <td>-0</td>\n",
       "      <td>-0</td>\n",
       "      <td>-0</td>\n",
       "      <td>-0</td>\n",
       "      <td>-0</td>\n",
       "      <td>-0</td>\n",
       "      <td>-0</td>\n",
       "      <td>-0</td>\n",
       "      <td>-0</td>\n",
       "      <td>-0</td>\n",
       "      <td>-0</td>\n",
       "      <td>-0</td>\n",
       "    </tr>\n",
       "  </tbody>\n",
       "</table>\n",
       "</div>"
      ],
      "text/plain": [
       "                   rss intercept  coef_x_1     coef_x_2    coef_x_3  \\\n",
       "alpha_1e-06   0.964781  0.248155  0.924816    -0.243249  -0.0251592   \n",
       "alpha_1e-05   0.978394   0.25157   0.97713     -0.28302  -0.0222008   \n",
       "alpha_0.0001    1.2878  0.999873  0.268535    -0.150048  -0.0126754   \n",
       "alpha_0.001    1.87245   1.54619 -0.238848   -0.0658164 -0.00371591   \n",
       "alpha_0.01     3.63858   1.76388 -0.555353 -4.87174e-05          -0   \n",
       "alpha_0.1       36.948  0.038032        -0           -0          -0   \n",
       "alpha_1         36.948  0.038032        -0           -0          -0   \n",
       "alpha_5         36.948  0.038032        -0           -0          -0   \n",
       "alpha_10        36.948  0.038032        -0           -0          -0   \n",
       "alpha_20        36.948  0.038032        -0           -0          -0   \n",
       "\n",
       "                 coef_x_4     coef_x_5     coef_x_6     coef_x_7     coef_x_8  \\\n",
       "alpha_1e-06   -0.00141872  9.96634e-05  7.76735e-05   1.8469e-05  3.48988e-06   \n",
       "alpha_1e-05  -0.000322868  0.000204696  8.71358e-05  1.66058e-05  2.65469e-06   \n",
       "alpha_0.0001 -5.54927e-05            0  2.85818e-05  9.89713e-06  1.51977e-06   \n",
       "alpha_0.001            -0           -0            0            0            0   \n",
       "alpha_0.01             -0           -0           -0           -0           -0   \n",
       "alpha_0.1              -0           -0           -0           -0           -0   \n",
       "alpha_1                -0           -0           -0           -0           -0   \n",
       "alpha_5                -0           -0           -0           -0           -0   \n",
       "alpha_10               -0           -0           -0           -0           -0   \n",
       "alpha_20               -0           -0           -0           -0           -0   \n",
       "\n",
       "                 coef_x_9    coef_x_10    coef_x_11    coef_x_12    coef_x_13  \\\n",
       "alpha_1e-06   5.62855e-07  7.56621e-08  6.98632e-09  1.95872e-10 -2.80914e-10   \n",
       "alpha_1e-05   3.63298e-07  3.90393e-08  1.70119e-09            0 -1.98447e-10   \n",
       "alpha_0.0001  1.97952e-07  1.93401e-08  3.26316e-10            0           -0   \n",
       "alpha_0.001             0  2.40422e-08  4.75138e-09  6.65578e-10  8.55275e-11   \n",
       "alpha_0.01             -0            0            0            0            0   \n",
       "alpha_0.1              -0           -0           -0           -0           -0   \n",
       "alpha_1                -0           -0           -0           -0           -0   \n",
       "alpha_5                -0           -0           -0           -0           -0   \n",
       "alpha_10               -0           -0           -0           -0           -0   \n",
       "alpha_20               -0           -0           -0           -0           -0   \n",
       "\n",
       "                coef_x_14    coef_x_15  \n",
       "alpha_1e-06  -1.25254e-10 -3.47346e-11  \n",
       "alpha_1e-05  -8.84045e-11 -2.21833e-11  \n",
       "alpha_0.0001           -0 -9.11461e-12  \n",
       "alpha_0.001   9.31046e-12  6.05659e-13  \n",
       "alpha_0.01              0            0  \n",
       "alpha_0.1              -0           -0  \n",
       "alpha_1                -0           -0  \n",
       "alpha_5                -0           -0  \n",
       "alpha_10               -0           -0  \n",
       "alpha_20               -0           -0  "
      ]
     },
     "execution_count": 30,
     "metadata": {},
     "output_type": "execute_result"
    }
   ],
   "source": [
    "# Exercise 2: Effect of regularization weight on capacity of Lasso linear regression model (cont)\n",
    "# Print the trained variables \n",
    "coef_matrix_lasso\n",
    "# regularization 되다가 심해지면 coef 가 다 0으로 거의 감."
   ]
  },
  {
   "cell_type": "markdown",
   "metadata": {},
   "source": [
    "Question: what can you see here regarding the tendency of the learned variables when alpha increases from 1e-15 to 10?\n",
    "\n",
    "Answer: more regularization, more sparsity."
   ]
  },
  {
   "cell_type": "markdown",
   "metadata": {},
   "source": [
    "# 1.Linear Regression\n",
    "\n",
    "---------------------------------------\n",
    "\n",
    "## c. Ridge Linear Regression\n",
    "\n",
    "------------------\n",
    "\n",
    "### Ridge(alpha = 1.0, fit_intercept = True, normalize = False, max_iter=None)\n",
    "*  Return a Ridge L2-regularized least squares Linear Regression object.\n",
    " \n",
    "* #### Parameters\n",
    " 1.    alpha: constant multiplied with the L1-regularizer term. alpha = 0 is equivalent to ordinary Linear Regression.\n",
    " 2.    fit_intercept: whether to calculate the intercept. True/False. default True\n",
    " 3.    normalize: whether to normalize the X regressors before fitting. True/False. default False. \n",
    "         ignored when fit_intercept is set to be True\n",
    " 4.    max_iter: the maximum number of iterations\n",
    " \n",
    "*  #### Attributes (of the LinearRegression object):\n",
    " *    coef_: estimated coefficients for the linear regression problem.\n",
    " *    intercept_: array of indepentdent term in the linear model.\n",
    " \n",
    "*  #### Methods (on the LinearRegression object)\n",
    " *    fit(X, y) : fit the linear model: y = aX + b\n",
    " *    get_params: return the parameters for the linear regression estimator.\n",
    " *    predict(X): predict using the linear model\n",
    " *    set_params: set parameters for this estimator.\n"
   ]
  },
  {
   "cell_type": "code",
   "execution_count": 31,
   "metadata": {},
   "outputs": [
    {
     "data": {
      "image/png": "[encoded data removed]",
      "text/plain": [
       "<Figure size 432x288 with 1 Axes>"
      ]
     },
     "metadata": {
      "needs_background": "light"
     },
     "output_type": "display_data"
    }
   ],
   "source": [
    "# Exercise 1: Ridge Linear Regression to predict price of Boston houses.\n",
    "\n",
    "# Note: since the syntax is very similar to Lasso regression, there is no example for this section.\n",
    "\n",
    "# Load the dataset\n",
    "boston=load_boston()\n",
    "boston_df=pd.DataFrame(boston.data,columns=boston.feature_names)\n",
    "# add another column that contains the house prices which in scikit learn datasets are considered as target\n",
    "boston_df['Price']=boston.target\n",
    "newX=boston_df.drop('Price',axis=1)\n",
    "\n",
    "#print (newX[0:3]) # check \n",
    "newY=boston_df['Price']\n",
    "#print type(newY)# pandas core frame\n",
    "\n",
    "# Split the train and test sets\n",
    "X_train,X_test,y_train,y_test=train_test_split(newX,newY,test_size=0.3,random_state=3)\n",
    "#print (len(X_test), len(y_test))\n",
    "\n",
    "# Ordinary Linear Regression\n",
    "### YOUR CODE HERE. Fill in the \"None\". 2 lines of code.\n",
    "# Hint: define an Ordinary Linear Regression object 'lr' and train it on the training data\n",
    "lr = LinearRegression()\n",
    "lr.fit(X_train, y_train)\n",
    "### END OF YOUR CODE.\n",
    "\n",
    "# Ridge Linear Regression\n",
    "### YOUR CODE HERE. Fill in the \"None\". 4 lines of code.\n",
    "#2 lines of code.\n",
    "# Hint: define a Ridge Linear Regression object 'rr' with regularization weight 0.01, and train it on the training data.\n",
    "rr = Ridge(alpha=0.01)\n",
    "rr.fit(X_train, y_train)\n",
    "\n",
    "# 2 lines of code.\n",
    "# Hint: define a Ridge Linear Regression object with regularization weight 100 'rr100', and train it on the training data.\n",
    "rr100 = Ridge(alpha=100) #  comparison with alpha value\n",
    "rr100.fit(X_train, y_train)\n",
    "### END OF YOUR CODE.\n",
    "\n",
    "# Plot to see the difference of regularization weights in terms of learned variables.\n",
    "plt.plot(rr.coef_,alpha=0.7,linestyle='none',marker='*',markersize=5,color='red',label=r'Ridge; $\\alpha = 0.01$',zorder=7) # zorder for ordering the markers\n",
    "plt.plot(rr100.coef_,alpha=0.5,linestyle='none',marker='d',markersize=6,color='blue',label=r'Ridge; $\\alpha = 100$') # alpha here is for transparency\n",
    "plt.plot(lr.coef_,alpha=0.4,linestyle='none',marker='o',markersize=7,color='green',label='Linear Regression')\n",
    "plt.xlabel('Coefficient Index',fontsize=16)\n",
    "plt.ylabel('Coefficient Magnitude',fontsize=16)\n",
    "plt.legend(fontsize=13,loc=4)\n",
    "plt.show()"
   ]
  },
  {
   "cell_type": "markdown",
   "metadata": {},
   "source": [
    "It is clear than with alpha = 0.01 (small weight), there is almost no difference between Ridge and Ordinary Linear Regression. On the other hand, as alpha = 100 is quite large, the learned variables of Ridge are considerably different from that of ordinary linear regression."
   ]
  },
  {
   "cell_type": "code",
   "execution_count": 35,
   "metadata": {},
   "outputs": [
    {
     "data": {
      "image/png": "[encoded data removed]",
      "text/plain": [
       "<Figure size 432x288 with 6 Axes>"
      ]
     },
     "metadata": {
      "needs_background": "light"
     },
     "output_type": "display_data"
    }
   ],
   "source": [
    "# Exercise 2: Effect of regularization weights on fitting capacity of the model.\n",
    "# Define a helper function with Ridge Linear Regression with plotting\n",
    "def ridge_regression(data, predictors, alpha, models_to_plot={}):\n",
    "    ### YOUR CODE HERE. Fill in the \"None\".\n",
    "    # NOTE: at this stage, I expect the students to be familiar with the 3-step process\n",
    "    # define Ridge object -->> fit (to train) --> predict (to predict value)\n",
    "    # Hint: parameter alpha is the weight of regularization; we use normalization, maximum 100000 iterations. \n",
    "    # Hint: training data is (data[predictors], data['y']). 'y_pred' is predicted value when applying the model on data[predictors]\n",
    "    ridgereg = Ridge(alpha=alpha,normalize=True)\n",
    "    ridgereg.fit(data[predictors],data['y'])\n",
    "    y_pred = ridgereg.predict(data[predictors])\n",
    "    \n",
    "    \n",
    "    #Check if a plot is to be made for the entered alpha\n",
    "    if alpha in models_to_plot:\n",
    "        plt.subplot(models_to_plot[alpha])\n",
    "        plt.tight_layout()\n",
    "        plt.plot(data['x'],y_pred)\n",
    "        plt.plot(data['x'],data['y'],'.')\n",
    "        plt.title('Plot for alpha: %.3g'%alpha)\n",
    "    \n",
    "    #Return the result in pre-defined format\n",
    "    rss = sum((y_pred-data['y'])**2)\n",
    "    ret = [rss]\n",
    "    # Hint: learned intercept of the model\n",
    "    ret.extend([ridgereg.intercept_])\n",
    "    # Hint: learned coefficients of the model\n",
    "    ret.extend(ridgereg.coef_)\n",
    "    return ret\n",
    "    \n",
    "    ### END OF YOUR CODE.\n",
    "\n",
    "#Initialize predictors to be set of 15 powers of x\n",
    "predictors=['x']\n",
    "predictors.extend(['x_%d'%i for i in range(2,16)])\n",
    "\n",
    "#Set the different values of alpha to be tested\n",
    "alpha_ridge = [1e-14, 1e-10, 1e-8, 1e-4, 1e-3,1e-2, 1, 5, 10, 20]\n",
    "\n",
    "#Initialize the dataframe for storing coefficients.\n",
    "col = ['rss','intercept'] + ['coef_x_%d'%i for i in range(1,16)]\n",
    "ind = ['alpha_%.2g'%alpha_ridge[i] for i in range(0,10)]\n",
    "coef_matrix_ridge = pd.DataFrame(index=ind, columns=col)\n",
    "\n",
    "models_to_plot = {1e-14:231, 1e-10:232, 1e-4:233, 1e-3:234, 1e-2:235, 5:236}\n",
    "for i in range(10):\n",
    "    coef_matrix_ridge.iloc[i,] = ridge_regression(data, predictors, alpha_ridge[i], models_to_plot)\n",
    "\n",
    "#Ridge 의 경우, Lasso 가 관계가 적은 애를 0으로 만드는 성격이 있는 것과 달리, L2 Norm 으로 smooth 하게 움직이는 경향이 있어서, 좀 더 smooth\n",
    "#하게 떨어짐.\n",
    "plt.show()"
   ]
  },
  {
   "cell_type": "markdown",
   "metadata": {},
   "source": [
    "Question: can you see the effect of regularization weight on the fitting capacity of the curve?\n",
    "\n",
    "Answer: over-fitting, over-fitting, over-fitting, over-fitting, normal, under-fitting."
   ]
  },
  {
   "cell_type": "markdown",
   "metadata": {},
   "source": [
    "In Section 1.b, we compared Lasso with ordinary Linear Regression. Let us also consider Ridge regression for that problem!"
   ]
  },
  {
   "cell_type": "code",
   "execution_count": 33,
   "metadata": {},
   "outputs": [
    {
     "data": {
      "image/png": "[encoded data removed]",
      "text/plain": [
       "<Figure size 432x288 with 1 Axes>"
      ]
     },
     "metadata": {
      "needs_background": "light"
     },
     "output_type": "display_data"
    }
   ],
   "source": [
    "# Exercise 3: Ridge Regression vs. Ordinary Regression\n",
    "\n",
    "# RELOAD EVERYTHING\n",
    "df = pd.read_csv('Hitters.csv').dropna()\n",
    "\n",
    "y = df.Salary\n",
    "\n",
    "# Drop the column with the independent variable (Salary), and columns for which we created dummy variables\n",
    "X_ = df.drop(['Salary', 'League', 'Division', 'NewLeague'], axis = 1).astype('float64')\n",
    "\n",
    "# Split data into training and test sets (will see this function shortly)\n",
    "X_train, X_test , y_train, y_test = train_test_split(X_, y, test_size=0.5, random_state=1)\n",
    "\n",
    "# Range of regularization weight alpha:\n",
    "alphas = 10**np.linspace(10,-2,100)*0.5\n",
    "\n",
    "# Ridge regression with different values for 'alpha'\n",
    "### YOUR CODE HERE. Fill in the \"None\".\n",
    "# Hint: define 'ridge' as a Ridge Linear Regression object with maximum 10000 iterations, AND normalization.\n",
    "ridge = Ridge(max_iter = 10000, normalize = True)\n",
    "coefs = []\n",
    "\n",
    "for a in alphas:    # Iterate through all values in 'alphas'\n",
    "    # Hint: set our Ridge Linear Regression model to have weight of regularization equal to a\n",
    "    ridge.set_params(alpha=a)\n",
    "    # Hint: fit our model to the data.\n",
    "    ridge.fit(X_train, y_train)\n",
    "    # Hint: append the learned variables into our list 'coefs'\n",
    "    coefs.append(ridge.coef_)\n",
    "### END OF YOUR CODE.\n",
    "\n",
    "# Plot the weight learned with different values of alphas\n",
    "plt.plot(alphas*2, coefs)\n",
    "plt.xscale('log')\n",
    "plt.axis('tight')\n",
    "plt.xlabel('alpha')\n",
    "plt.ylabel('weights')\n",
    "plt.show()"
   ]
  },
  {
   "cell_type": "code",
   "execution_count": 34,
   "metadata": {},
   "outputs": [
    {
     "name": "stdout",
     "output_type": "stream",
     "text": [
      "Error of Ridge regression with alpha value 0.5748784976988678 is:  104628.72833197897\n",
      "Error of ordinary linear regression is:  120478.00839882153\n"
     ]
    }
   ],
   "source": [
    "# Exercise 3: Ridge Regression vs. Ordinary Regression\n",
    "\n",
    "# Choose a 'good' value for alpha. You will see how this value is found shortly.\n",
    "best_alpha = 0.5748784976988678\n",
    "\n",
    "# Let us apply the 'best_alpha' on our Ridge Linear Regression model\n",
    "### YOUR CODE HERE. Fill in the \"None\".\n",
    "# Hint: set this value for 'alpha' in our previously defined Ridge Linear Regression object.\n",
    "ridge.set_params(alpha=best_alpha)\n",
    "# Hint: train the model on the training data\n",
    "ridge.fit(X_train, y_train)\n",
    "# Hint: predict values for the test data\n",
    "y_pred = ridge.predict(X_test)\n",
    "### END OF YOUR CODE.\n",
    "\n",
    "# Compute Mean-squarred-error:\n",
    "print(\"Error of Ridge regression with alpha value \" + str(best_alpha) + \" is:  \" + str(mean_squared_error(y_test, y_pred)))\n",
    "\n",
    "# Let us compare this result with Ordinary Lasso Linear Regression model\n",
    "# YOUR CODE HERE. Fill in the \"None\"\n",
    "# Hint: how to define an ordinary linear regression model using Ridge()?\n",
    "ordinary = Ridge(alpha = 0, normalize = True)\n",
    "# Hint: train the model on training data\n",
    "ordinary.fit(X_train, y_train)            \n",
    "# Hint: 'y_pred' should be the predicted values on the test data\n",
    "y_pred = ordinary.predict(X_test)           \n",
    "## END OF YOUR CODE.\n",
    "\n",
    "# Compute Mean-squarred-error:\n",
    "print(\"Error of ordinary linear regression is:  \" + str(mean_squared_error(y_test, y_pred)))"
   ]
  },
  {
   "cell_type": "markdown",
   "metadata": {},
   "source": [
    "Question: Comment on the performance of Ridge and ordinary linear regression?\n",
    "\n",
    "Answer: clearly Ridge regression, with a carefully chosen value of alpha, performed better in terms of mean-squarred error."
   ]
  },
  {
   "cell_type": "markdown",
   "metadata": {},
   "source": [
    "REFERENCES:\n",
    "    1. https://scikit-learn.org/stable/modules/linear_model.html\n",
    "    2. https://dzone.com/articles/linear-regression-using-python-scikit-learn\n",
    "    3. https://www.kaggle.com/andyxie/beginner-scikit-learn-linear-regression-tutorial\n",
    "    4. https://towardsdatascience.com/a-beginners-guide-to-linear-regression-in-python-with-scikit-learn-83a8f7ae2b4f\n",
    "    5. https://towardsdatascience.com/ridge-and-lasso-regression-a-complete-guide-with-python-scikit-learn-e20e34bcbf0b\n",
    "    6. https://towardsdatascience.com/ridge-and-lasso-regression-a-complete-guide-with-python-scikit-learn-e20e34bcbf0b\n",
    "    7. http://www.science.smith.edu/~jcrouser/SDS293/labs/lab9-py.html\n",
    "    8. https://www.analyticsvidhya.com/blog/2016/01/complete-tutorial-ridge-lasso-regression-python/"
   ]
  },
  {
   "cell_type": "markdown",
   "metadata": {},
   "source": [
    "Thank you for all of your hard work! That is the end of the Linear Regression tutorials. See you after the break!"
   ]
  },
  {
   "cell_type": "code",
   "execution_count": null,
   "metadata": {},
   "outputs": [],
   "source": []
  }
 ],
 "metadata": {
  "kernelspec": {
   "display_name": "Python 3",
   "language": "python",
   "name": "python3"
  },
  "language_info": {
   "codemirror_mode": {
    "name": "ipython",
    "version": 3
   },
   "file_extension": ".py",
   "mimetype": "text/x-python",
   "name": "python",
   "nbconvert_exporter": "python",
   "pygments_lexer": "ipython3",
   "version": "3.6.8"
  }
 },
 "nbformat": 4,
 "nbformat_minor": 2
}
