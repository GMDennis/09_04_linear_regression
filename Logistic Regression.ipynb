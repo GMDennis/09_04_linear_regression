{
 "cells": [
  {
   "cell_type": "code",
   "execution_count": 4,
   "metadata": {},
   "outputs": [
    {
     "name": "stderr",
     "output_type": "stream",
     "text": [
      "/home/com09/.local/lib/python3.6/site-packages/matplotlib/__init__.py:886: MatplotlibDeprecationWarning: \n",
      "examples.directory is deprecated; in the future, examples will be found relative to the 'datapath' directory.\n",
      "  \"found relative to the 'datapath' directory.\".format(key))\n"
     ]
    }
   ],
   "source": [
    "import matplotlib.pyplot as plt\n",
    "from matplotlib.pylab import rcParams\n",
    "import numpy as np\n",
    "import pandas as pd  \n",
    "import scipy\n",
    "import seaborn as seabornInstance \n",
    "from sklearn import metrics\n",
    "from sklearn import datasets, linear_model\n",
    "from sklearn.datasets import load_iris, load_digits, fetch_mldata, fetch_openml\n",
    "from sklearn.linear_model import LogisticRegression, SGDClassifier\n",
    "from sklearn.metrics import mean_squared_error, r2_score, accuracy_score\n",
    "from sklearn.model_selection import train_test_split\n",
    "from sklearn.preprocessing import StandardScaler\n",
    "from sklearn.exceptions import ConvergenceWarning\n",
    "import warnings\n",
    "%matplotlib inline\n",
    "rcParams['figure.figsize'] = 12, 10\n",
    "\n",
    "# Tip: if you want the generated figure to be large, re-run this cell before the beginning of every exercise."
   ]
  },
  {
   "cell_type": "markdown",
   "metadata": {},
   "source": [
    "# 2. Logistic Regression\n",
    "\n",
    "---------------------------------------\n",
    "\n",
    "## a. Logistic Regression\n",
    "\n",
    "------------------\n",
    "\n",
    "### LogisticRegression(penalty=\"l2\", tol = 1e-4,C=1, solver = \"liblinear\", multi_class=\"ovr\", l1_ratio=None)\n",
    "*  Return a Logistic Regression object.\n",
    " \n",
    "* #### Parameters\n",
    " 1.    penalty: specify the type of norm for regularization\n",
    "     * \"l1\" : L1-norm\n",
    "     * \"l2\" : L2-norm\n",
    "     * \"elasticnet\": elastic regularization\n",
    " 2.    tol: tolerance for stopping criteria, type float\n",
    " 3.  C : a positive float; smaller values specify stronger regularization\n",
    " 4.    solver: algorithm used in the optimization problem\n",
    "     * \"newton-cg\"\n",
    "     * \"lbfgs\"\n",
    "     * \"liblinear\"\n",
    "     * \"sag\"\n",
    "     * \"saga\"\n",
    " 5.    multi_class: a string\n",
    "     * \"ovr\" : binary classification\n",
    "     * \"multinomial\": multinomial loss over a probability distribution, not available when solver='liblinear'\n",
    " 6.    l1_ratio: only applicable when penalty=\"elasticnet\". ratio of l1-regularization. 0 <= l1_ratio <= 1.\n",
    "       if l1_ratio = 1 : equivalent to penalty=\"l1\", if l1_ratio = 1 : equivalent to penalty=\"l2\".\n",
    "     \n",
    "*  #### Attributes (of the LogisticRegression object):\n",
    " *    classses_: a list of class labels known to the classifier.\n",
    " *    coef_: coefficient of the features in the decision function.\n",
    " *    intercept_: intercept (bas) added to the decision function.\n",
    " \n",
    " \n",
    "*  #### Methods (on the LogisticRegression object)\n",
    " *    fit(X, y) : fit the model on the training data.\n",
    " *    get_params: return the parameters for the linear regression estimator.\n",
    " *    predict(X): predict using the linear model\n",
    " *    set_params(): set the parameters of this estimator\n",
    " *    score(X, y): return the mean accuracy on the given test data and labels y.\n",
    " *    predict_proba(X): probability estimates\n",
    " *    sparsity() : convert coefficient matrix to sparse format."
   ]
  },
  {
   "cell_type": "code",
   "execution_count": 5,
   "metadata": {},
   "outputs": [
    {
     "name": "stdout",
     "output_type": "stream",
     "text": [
      " Prediction for the first 3 samples:  [0 0 0]\n",
      " Predicted probabilities for the first 3 samples:  [[9.81583143e-01 1.84168427e-02 1.45011486e-08]\n",
      " [9.71339457e-01 2.86605127e-02 3.01872659e-08]\n",
      " [9.85274653e-01 1.47253344e-02 1.23396963e-08]]\n",
      "Accuracy of the model:  0.9733333333333334\n"
     ]
    }
   ],
   "source": [
    "# Example: Simple multinomial classification on Iris dataset\n",
    "\n",
    "# Load the dataset\n",
    "X, y = load_iris(return_X_y=True)\n",
    "\n",
    "# Define the LogisticRegression object. Note that this is multinomial problem, so we cannot use the default solver.\n",
    "clf = LogisticRegression(solver='lbfgs',multi_class='multinomial', max_iter=1e5)\n",
    "\n",
    "# Train the Logistic Regression model on the data\n",
    "clf.fit(X,y)\n",
    "\n",
    "# Predict the label of the first 3 samples\n",
    "print(\" Prediction for the first 3 samples: \", clf.predict(X[:3,:]))\n",
    "\n",
    "# Print the predicted probabilities\n",
    "print(\" Predicted probabilities for the first 3 samples: \", clf.predict_proba(X[:3, :]))\n",
    "\n",
    "# Print the average accuracy:\n",
    "print(\"Accuracy of the model: \", clf.score(X,y))"
   ]
  },
  {
   "cell_type": "code",
   "execution_count": 6,
   "metadata": {},
   "outputs": [
    {
     "name": "stdout",
     "output_type": "stream",
     "text": [
      "Image Data Shape (1797, 64)\n",
      "Label Data Shape (1797,)\n"
     ]
    },
    {
     "data": {
      "image/png": "[encoded data removed]",
      "text/plain": [
       "<Figure size 1440x288 with 5 Axes>"
      ]
     },
     "metadata": {
      "needs_background": "light"
     },
     "output_type": "display_data"
    }
   ],
   "source": [
    "# Exercise 1: Logistic Regression on Digits\n",
    "# Load the data\n",
    "digits = load_digits()\n",
    "\n",
    "# Explore the data\n",
    "print(\"Image Data Shape\" , digits.data.shape)\n",
    "print(\"Label Data Shape\", digits.target.shape)\n",
    "\n",
    "plt.figure(figsize=(20,4))\n",
    "for index, (image, label) in enumerate(zip(digits.data[0:5], digits.target[0:5])):\n",
    "    plt.subplot(1, 5, index + 1)\n",
    "    plt.imshow(np.reshape(image, (8,8)), cmap=plt.cm.gray)\n",
    "    plt.title('Training: %i\\n' % label, fontsize = 20)"
   ]
  },
  {
   "cell_type": "code",
   "execution_count": 13,
   "metadata": {},
   "outputs": [
    {
     "ename": "ValueError",
     "evalue": "X has 1 features per sample; expecting 64",
     "output_type": "error",
     "traceback": [
      "\u001b[0;31m---------------------------------------------------------------------------\u001b[0m",
      "\u001b[0;31mValueError\u001b[0m                                Traceback (most recent call last)",
      "\u001b[0;32m<ipython-input-13-649afa14edae>\u001b[0m in \u001b[0;36m<module>\u001b[0;34m\u001b[0m\n\u001b[1;32m     16\u001b[0m \u001b[0;31m#exit()\u001b[0m\u001b[0;34m\u001b[0m\u001b[0;34m\u001b[0m\u001b[0;34m\u001b[0m\u001b[0m\n\u001b[1;32m     17\u001b[0m \u001b[0;31m# Hint: 'score' is the accuracy\u001b[0m\u001b[0;34m\u001b[0m\u001b[0;34m\u001b[0m\u001b[0;34m\u001b[0m\u001b[0m\n\u001b[0;32m---> 18\u001b[0;31m \u001b[0mscore\u001b[0m \u001b[0;34m=\u001b[0m \u001b[0mlogisticRegr\u001b[0m\u001b[0;34m.\u001b[0m\u001b[0mscore\u001b[0m\u001b[0;34m(\u001b[0m\u001b[0mpred\u001b[0m\u001b[0;34m.\u001b[0m\u001b[0mreshape\u001b[0m\u001b[0;34m(\u001b[0m\u001b[0;34m-\u001b[0m\u001b[0;36m1\u001b[0m\u001b[0;34m,\u001b[0m\u001b[0;36m1\u001b[0m\u001b[0;34m)\u001b[0m\u001b[0;34m,\u001b[0m \u001b[0my_test\u001b[0m\u001b[0;34m)\u001b[0m\u001b[0;34m\u001b[0m\u001b[0;34m\u001b[0m\u001b[0m\n\u001b[0m\u001b[1;32m     19\u001b[0m \u001b[0;31m### END OF YOUR CODE.\u001b[0m\u001b[0;34m\u001b[0m\u001b[0;34m\u001b[0m\u001b[0;34m\u001b[0m\u001b[0m\n\u001b[1;32m     20\u001b[0m \u001b[0;34m\u001b[0m\u001b[0m\n",
      "\u001b[0;32m~/.local/lib/python3.6/site-packages/sklearn/base.py\u001b[0m in \u001b[0;36mscore\u001b[0;34m(self, X, y, sample_weight)\u001b[0m\n\u001b[1;32m    286\u001b[0m         \"\"\"\n\u001b[1;32m    287\u001b[0m         \u001b[0;32mfrom\u001b[0m \u001b[0;34m.\u001b[0m\u001b[0mmetrics\u001b[0m \u001b[0;32mimport\u001b[0m \u001b[0maccuracy_score\u001b[0m\u001b[0;34m\u001b[0m\u001b[0;34m\u001b[0m\u001b[0m\n\u001b[0;32m--> 288\u001b[0;31m         \u001b[0;32mreturn\u001b[0m \u001b[0maccuracy_score\u001b[0m\u001b[0;34m(\u001b[0m\u001b[0my\u001b[0m\u001b[0;34m,\u001b[0m \u001b[0mself\u001b[0m\u001b[0;34m.\u001b[0m\u001b[0mpredict\u001b[0m\u001b[0;34m(\u001b[0m\u001b[0mX\u001b[0m\u001b[0;34m)\u001b[0m\u001b[0;34m,\u001b[0m \u001b[0msample_weight\u001b[0m\u001b[0;34m=\u001b[0m\u001b[0msample_weight\u001b[0m\u001b[0;34m)\u001b[0m\u001b[0;34m\u001b[0m\u001b[0;34m\u001b[0m\u001b[0m\n\u001b[0m\u001b[1;32m    289\u001b[0m \u001b[0;34m\u001b[0m\u001b[0m\n\u001b[1;32m    290\u001b[0m \u001b[0;34m\u001b[0m\u001b[0m\n",
      "\u001b[0;32m~/.local/lib/python3.6/site-packages/sklearn/linear_model/base.py\u001b[0m in \u001b[0;36mpredict\u001b[0;34m(self, X)\u001b[0m\n\u001b[1;32m    279\u001b[0m             \u001b[0mPredicted\u001b[0m \u001b[0;32mclass\u001b[0m \u001b[0mlabel\u001b[0m \u001b[0mper\u001b[0m \u001b[0msample\u001b[0m\u001b[0;34m.\u001b[0m\u001b[0;34m\u001b[0m\u001b[0;34m\u001b[0m\u001b[0m\n\u001b[1;32m    280\u001b[0m         \"\"\"\n\u001b[0;32m--> 281\u001b[0;31m         \u001b[0mscores\u001b[0m \u001b[0;34m=\u001b[0m \u001b[0mself\u001b[0m\u001b[0;34m.\u001b[0m\u001b[0mdecision_function\u001b[0m\u001b[0;34m(\u001b[0m\u001b[0mX\u001b[0m\u001b[0;34m)\u001b[0m\u001b[0;34m\u001b[0m\u001b[0;34m\u001b[0m\u001b[0m\n\u001b[0m\u001b[1;32m    282\u001b[0m         \u001b[0;32mif\u001b[0m \u001b[0mlen\u001b[0m\u001b[0;34m(\u001b[0m\u001b[0mscores\u001b[0m\u001b[0;34m.\u001b[0m\u001b[0mshape\u001b[0m\u001b[0;34m)\u001b[0m \u001b[0;34m==\u001b[0m \u001b[0;36m1\u001b[0m\u001b[0;34m:\u001b[0m\u001b[0;34m\u001b[0m\u001b[0;34m\u001b[0m\u001b[0m\n\u001b[1;32m    283\u001b[0m             \u001b[0mindices\u001b[0m \u001b[0;34m=\u001b[0m \u001b[0;34m(\u001b[0m\u001b[0mscores\u001b[0m \u001b[0;34m>\u001b[0m \u001b[0;36m0\u001b[0m\u001b[0;34m)\u001b[0m\u001b[0;34m.\u001b[0m\u001b[0mastype\u001b[0m\u001b[0;34m(\u001b[0m\u001b[0mnp\u001b[0m\u001b[0;34m.\u001b[0m\u001b[0mint\u001b[0m\u001b[0;34m)\u001b[0m\u001b[0;34m\u001b[0m\u001b[0;34m\u001b[0m\u001b[0m\n",
      "\u001b[0;32m~/.local/lib/python3.6/site-packages/sklearn/linear_model/base.py\u001b[0m in \u001b[0;36mdecision_function\u001b[0;34m(self, X)\u001b[0m\n\u001b[1;32m    260\u001b[0m         \u001b[0;32mif\u001b[0m \u001b[0mX\u001b[0m\u001b[0;34m.\u001b[0m\u001b[0mshape\u001b[0m\u001b[0;34m[\u001b[0m\u001b[0;36m1\u001b[0m\u001b[0;34m]\u001b[0m \u001b[0;34m!=\u001b[0m \u001b[0mn_features\u001b[0m\u001b[0;34m:\u001b[0m\u001b[0;34m\u001b[0m\u001b[0;34m\u001b[0m\u001b[0m\n\u001b[1;32m    261\u001b[0m             raise ValueError(\"X has %d features per sample; expecting %d\"\n\u001b[0;32m--> 262\u001b[0;31m                              % (X.shape[1], n_features))\n\u001b[0m\u001b[1;32m    263\u001b[0m \u001b[0;34m\u001b[0m\u001b[0m\n\u001b[1;32m    264\u001b[0m         scores = safe_sparse_dot(X, self.coef_.T,\n",
      "\u001b[0;31mValueError\u001b[0m: X has 1 features per sample; expecting 64"
     ]
    }
   ],
   "source": [
    "# Exercise 1: Logistic Regression on Digits (cont)\n",
    "\n",
    "# Split the train-test sets (will see this function shortly)\n",
    "x_train, x_test, y_train, y_test = train_test_split(digits.data, digits.target, test_size=0.25, random_state=0)\n",
    "\n",
    "# Logistic Regression\n",
    "### YOUR CODE HERE. Fill in the \"None\"\n",
    "# Hint: define a simple Logistic Regression object with 'lbfgs' solver, 'multinomial' option, AND maximum 10000 iterations\n",
    "logisticRegr = LogisticRegression(solver='lbfgs',multi_class='multinomial', max_iter=1e4)\n",
    "# Hint: train the model on the training set\n",
    "logisticRegr.fit(x_train, y_train)\n",
    "# Hint: 'pred' is the predictions on the test set\n",
    "pred = logisticRegr.predict(x_test)\n",
    "#print(pred)\n",
    "#print(y_test)\n",
    "#exit()\n",
    "# Hint: 'score' is the accuracy\n",
    "score = logisticRegr.score(np.array(pred), y_test)\n",
    "### END OF YOUR CODE.\n",
    "\n",
    "print(\"Accuracy is: \", score)"
   ]
  },
  {
   "cell_type": "code",
   "execution_count": 92,
   "metadata": {},
   "outputs": [
    {
     "name": "stdout",
     "output_type": "stream",
     "text": [
      "Image Data Shape  (70000, 784)\n",
      "Label Data Shape  (70000,)\n"
     ]
    }
   ],
   "source": [
    "# Exercise 2: Logistic Regression on MNIST dataset\n",
    "\n",
    "# Load the data\n",
    "X, y = fetch_openml('mnist_784', version=1, return_X_y=True)\n",
    "\n",
    "# Some insights into the dataset\n",
    "print(\"Image Data Shape \", X.shape)\n",
    "print(\"Label Data Shape \", y.shape)"
   ]
  },
  {
   "cell_type": "code",
   "execution_count": 93,
   "metadata": {},
   "outputs": [
    {
     "name": "stdout",
     "output_type": "stream",
     "text": [
      "Test score with L1 penalty: 0.8648\n",
      "Test score with L2 penalty: 0.8673\n"
     ]
    }
   ],
   "source": [
    "# Exercise 2: Logistic Regression on MNIST dataset (cont)\n",
    "\n",
    "# split the train and test sets\n",
    "X_train, X_test, y_train, y_test = train_test_split(X, y, train_size=5000, test_size=10000)\n",
    "\n",
    "# Standardization of the data\n",
    "scaler = StandardScaler()\n",
    "X_train = scaler.fit_transform(X_train)\n",
    "X_test = scaler.transform(X_test)\n",
    "\n",
    "# Logistic Regression with L1-regularization\n",
    "### YOUR CODE HERE. Fill in the \"None\".\n",
    "# Hint: define a Logistic Regression object, for multiclass, L1-norm regularization, solver saga, tolerance 0.1 to speed up convergence\n",
    "clf = None\n",
    "# Hint: fit the model on training data.\n",
    "None\n",
    "# Hint: 'accuracy' is the accuracy of the model on the test set.\n",
    "l1_score = None\n",
    "### END OF YOR CODE.\n",
    "\n",
    "# Logistic Regression with L2-regularization\n",
    "### YOUR CODE HERE. Fill in the \"None\". 3 lines of code.\n",
    "# Hint: the parameters should be similar to the object defined above.\n",
    "clf2 = None\n",
    "None\n",
    "l2_score = None\n",
    "### END OF YOUR CODE.\n",
    "\n",
    "\n",
    "print(\"Test score with L1 penalty: %.4f\" % l1_score)\n",
    "print(\"Test score with L2 penalty: %.4f\" % l2_score)\n"
   ]
  },
  {
   "cell_type": "code",
   "execution_count": 94,
   "metadata": {},
   "outputs": [
    {
     "data": {
      "image/png": "[encoded data removed]",
      "text/plain": [
       "<Figure size 1440x288 with 5 Axes>"
      ]
     },
     "metadata": {
      "needs_background": "light"
     },
     "output_type": "display_data"
    }
   ],
   "source": [
    "# Exercise 2: Logistic Regression on MNIST dataset (cont)\n",
    "# Show some images with their predicted vs. real labels\n",
    "\n",
    "### YOUR CODE HERE. Fill in the 'None'.\n",
    "# Hint: 'predictions' should contain labels predicted for the test images. Either L1-regularized or L2-regularized model is fine.\n",
    "predictions = None\n",
    "### END OF YOUR CODE.\n",
    "\n",
    "index = 0\n",
    "misclassifiedIndexes = []\n",
    "for label, predict in zip(y_test, predictions):\n",
    "    if label != predict: \n",
    "        misclassifiedIndexes.append(index)\n",
    "        index +=1\n",
    "        \n",
    "plt.figure(figsize=(20,4))\n",
    "for plotIndex, badIndex in enumerate(misclassifiedIndexes[0:5]):\n",
    "    plt.subplot(1, 5, plotIndex + 1)\n",
    "    plt.imshow(np.reshape(X_test[badIndex], (28,28)), cmap=plt.cm.gray)\n",
    "    plt.title(\"Predicted: {}, Actual: {}\".format(predictions[badIndex], y_test[badIndex]), fontsize = 15)"
   ]
  },
  {
   "cell_type": "markdown",
   "metadata": {},
   "source": [
    "We know that L1-regularization encourages sparsity (many learned coefficients are zero). Let us investigate if it is such the case of Logistic Regression!"
   ]
  },
  {
   "cell_type": "code",
   "execution_count": 95,
   "metadata": {},
   "outputs": [
    {
     "name": "stdout",
     "output_type": "stream",
     "text": [
      "C=1.00\n",
      "Sparsity with L1 penalty:                6.25%\n",
      "Sparsity with Elastic-Net penalty:       4.69%\n",
      "Sparsity with L2 penalty:                4.69%\n",
      "Score with L1 penalty:                   0.90\n",
      "Score with Elastic-Net penalty:          0.90\n",
      "Score with L2 penalty:                   0.90\n",
      "C=0.10\n",
      "Sparsity with L1 penalty:                29.69%\n",
      "Sparsity with Elastic-Net penalty:       12.50%\n",
      "Sparsity with L2 penalty:                4.69%\n",
      "Score with L1 penalty:                   0.90\n",
      "Score with Elastic-Net penalty:          0.90\n",
      "Score with L2 penalty:                   0.90\n",
      "C=0.01\n",
      "Sparsity with L1 penalty:                84.38%\n",
      "Sparsity with Elastic-Net penalty:       68.75%\n",
      "Sparsity with L2 penalty:                4.69%\n",
      "Score with L1 penalty:                   0.86\n",
      "Score with Elastic-Net penalty:          0.88\n",
      "Score with L2 penalty:                   0.89\n"
     ]
    },
    {
     "data": {
      "image/png": "[encoded data removed]",
      "text/plain": [
       "<Figure size 864x720 with 9 Axes>"
      ]
     },
     "metadata": {},
     "output_type": "display_data"
    }
   ],
   "source": [
    "# Exercise 3: Regularization norms and Sparsity in Logistic Regression\n",
    "\n",
    "# Load the dataset\n",
    "digits = datasets.load_digits()\n",
    "\n",
    "X, y = digits.data, digits.target\n",
    "X = StandardScaler().fit_transform(X)\n",
    "\n",
    "# classify small against large digits\n",
    "y = (y > 4).astype(np.int)\n",
    "\n",
    "l1_ratio = 0.5  # L1 weight in the Elastic-Net regularization\n",
    "\n",
    "fig, axes = plt.subplots(3, 3)\n",
    "\n",
    "# Set regularization parameter\n",
    "for i, (C, axes_row) in enumerate(zip((1, 0.1, 0.01), axes)):\n",
    "    \n",
    "    ### YOUR CODE HERE. Fill in the \"None\".\n",
    "    \n",
    "    # Hint: define 3 Logistic Regression objects, with 3 different regularization methods, tolerance 0.01, solver sage, C is C.\n",
    "    # Hint: you may freely choose the ratio of L1-regularization in elasticnet.\n",
    "    clf_l1_LR = None\n",
    "    clf_l2_LR = None\n",
    "    clf_en_LR = None\n",
    "    \n",
    "    # Hint: train the model on the data \n",
    "    None\n",
    "    None\n",
    "    None\n",
    "    \n",
    "    # Hint: apply method ravel() to the trained coefficients.\n",
    "    coef_l1_LR = None\n",
    "    coef_l2_LR = None\n",
    "    coef_en_LR = None\n",
    "    \n",
    "    ### END OF YOUR CODE.\n",
    "\n",
    "    # coef_l1_LR contains zeros due to the\n",
    "    # L1 sparsity inducing norm\n",
    "\n",
    "    sparsity_l1_LR = np.mean(coef_l1_LR == 0) * 100\n",
    "    sparsity_l2_LR = np.mean(coef_l2_LR == 0) * 100\n",
    "    sparsity_en_LR = np.mean(coef_en_LR == 0) * 100\n",
    "\n",
    "    print(\"C=%.2f\" % C)\n",
    "    print(\"{:<40} {:.2f}%\".format(\"Sparsity with L1 penalty:\", sparsity_l1_LR))\n",
    "    print(\"{:<40} {:.2f}%\".format(\"Sparsity with Elastic-Net penalty:\",\n",
    "                                  sparsity_en_LR))\n",
    "    print(\"{:<40} {:.2f}%\".format(\"Sparsity with L2 penalty:\", sparsity_l2_LR))\n",
    "    print(\"{:<40} {:.2f}\".format(\"Score with L1 penalty:\",\n",
    "                                 clf_l1_LR.score(X, y)))\n",
    "    print(\"{:<40} {:.2f}\".format(\"Score with Elastic-Net penalty:\",\n",
    "                                 clf_en_LR.score(X, y)))\n",
    "    print(\"{:<40} {:.2f}\".format(\"Score with L2 penalty:\",\n",
    "                                 clf_l2_LR.score(X, y)))\n",
    "\n",
    "    if i == 0:\n",
    "        axes_row[0].set_title(\"L1 penalty\")\n",
    "        axes_row[1].set_title(\"Elastic-Net\\nl1_ratio = %s\" % l1_ratio)\n",
    "        axes_row[2].set_title(\"L2 penalty\")\n",
    "\n",
    "    for ax, coefs in zip(axes_row, [coef_l1_LR, coef_en_LR, coef_l2_LR]):\n",
    "        ax.imshow(np.abs(coefs.reshape(8, 8)), interpolation='nearest', cmap='binary', vmax=1, vmin=0)\n",
    "        ax.set_xticks(())\n",
    "        ax.set_yticks(())\n",
    "\n",
    "    axes_row[0].set_ylabel('C = %s' % C)\n",
    "\n",
    "plt.show()"
   ]
  },
  {
   "cell_type": "markdown",
   "metadata": {},
   "source": [
    "Observe the sparsity percentage and compare between different types of regularization!"
   ]
  },
  {
   "cell_type": "markdown",
   "metadata": {},
   "source": [
    "# 2. Logistic Regression\n",
    "\n",
    "---------------------------------------\n",
    "\n",
    "## b. Linear classifier with Stochastic Gradient Descent training\n",
    "\n",
    "------------------\n",
    "\n",
    "### SGDClassificer(loss='hinge', penalty='l2', alpha=0.0001, l1_ratio=0.15, fit_intercept=True, max_iter=1000, tol=1e-3)\n",
    "*  Return a linear classifier (SVM, Logistic regression,...) with Stochastic Gradient Descent training.\n",
    " \n",
    "* #### Parameters\n",
    " 1.    loss: a string specifying the loss function to use\n",
    "     * \"hinge\": model becomes a linear Support Vector Machine\n",
    "     * \"perceptron\": model becomes Perceptron Algorithm\n",
    "     * \"squared_loss\": linear regression loss.\n",
    "     * \"log\": logistic regression.\n",
    " 2.    penalty: specify the type of norm for regularization\n",
    "     * \"l1\" : L1-norm\n",
    "     * \"l2\" : L2-norm\n",
    "     * \"elasticnet\" elasticnet regularization\n",
    " 3.    alpha: float, weight of the regularization term\n",
    " 4.    l1_ratio: appliable to penalty=\"elasticnet\", ratio of L1-regularization; 1 if only L1 used, 0 if only L2 used\n",
    " 5.    fit_intercept: whether to use intercept. if 'False': data assumed to be already centered.\n",
    " 6.    max_iter: maximum number of iterations\n",
    " 7.    tol: tolerance for stopping criteria, type float\n",
    "     \n",
    " \n",
    "*  #### Attributes (of the SGDClassifier object):\n",
    " *    coef_: estimated coefficients for the linear regression problem.\n",
    " *    intercept_: array of indepentdent term in the linear model.\n",
    " \n",
    "*  #### Methods (on the SGDClassifier object)\n",
    " *    partial_fit(X, y, classes): perform one epoch of stochastic gradient descent on given samples. 'classes' is array of classes.\n",
    " *    fit(X, y) : fit the model on the training data\n",
    " *    get_params: return the parameters for the linear regression estimator.\n",
    " *    predict(X): predict using the linear model\n",
    " *    score(): mean accuracy on the given test data and labels"
   ]
  },
  {
   "cell_type": "code",
   "execution_count": 96,
   "metadata": {},
   "outputs": [
    {
     "name": "stdout",
     "output_type": "stream",
     "text": [
      "Prediction is:  [1]\n"
     ]
    }
   ],
   "source": [
    "# Example :\n",
    "X = np.array([[-1, -1], [-2, -1], [1, 1], [2, 1]])  # np.ndarray (4L, 2L)\n",
    "y = np.array([1, 1, 2, 2])  # np.ndarray (4L,)\n",
    "\n",
    "# SGD CLassifier\n",
    "# Define a Logistic Regression model, L2-norm regularization, regularization weight 0.0001\n",
    "clf_1 = SGDClassifier(alpha=.0001, loss='log', penalty='l2')\n",
    "\n",
    "# Fit the model on the training set\n",
    "clf_1.fit(X, y)\n",
    "\n",
    "print (\"Prediction is: \", clf_1.predict([[-0.8, -1]]))"
   ]
  },
  {
   "cell_type": "code",
   "execution_count": 97,
   "metadata": {},
   "outputs": [
    {
     "name": "stdout",
     "output_type": "stream",
     "text": [
      "Prediction is:  [0 1 0 0 1 1 0 0 1 1]\n",
      "Accuracy Score is:  1.0\n"
     ]
    }
   ],
   "source": [
    "# Exercise 1: Simple Logistic Regression with SGDClassifier()\n",
    "\n",
    "np.random.seed(1234)\n",
    "nsamples = 100\n",
    "nfeatures = 1000\n",
    "numOnesInX = np.int(0.01 * nsamples * nfeatures)  # 1000  # <type 'int'>\n",
    "nlabels = 4\n",
    "row_array = np.random.randint(0, nsamples, size=numOnesInX)\n",
    "col_array = np.random.randint(0, nsamples, size=numOnesInX)\n",
    "data = np.ones_like(row_array)\n",
    "\n",
    "# Data\n",
    "X = scipy.sparse.csc_matrix((data, (row_array, col_array)),shape=(nsamples, nfeatures))\n",
    "y = np.random.randint(0, 2, size=[nsamples, nlabels])\n",
    "\n",
    "# Logistic Regression\n",
    "### YOUR CODE HERE. Fill in the \"None\".\n",
    "# Hint: define Logistic Regression with SGDClassifier, regularization weight 0.0001, l2-regularization.\n",
    "clf_2 = None\n",
    "# Hint: perform one epoch of SGD on the first 100 samples of data. Only consider 2 clases.\n",
    "None\n",
    "# Hint: 'pred' is the predicted values on the first 10 samples.\n",
    "pred = None\n",
    "### END OF YOUR CODE.\n",
    "\n",
    "# Print the accuracy score.\n",
    "print (\"Prediction is: \", pred)  # [1 1 0 0 1 1 0 0 1 1])\n",
    "print (\"Accuracy Score is: \", accuracy_score(pred, y[:10, 0]))  # gives 0.9)"
   ]
  },
  {
   "cell_type": "code",
   "execution_count": 98,
   "metadata": {},
   "outputs": [
    {
     "name": "stdout",
     "output_type": "stream",
     "text": [
      "(37776, 10)\n"
     ]
    },
    {
     "data": {
      "text/html": [
       "<div>\n",
       "<style scoped>\n",
       "    .dataframe tbody tr th:only-of-type {\n",
       "        vertical-align: middle;\n",
       "    }\n",
       "\n",
       "    .dataframe tbody tr th {\n",
       "        vertical-align: top;\n",
       "    }\n",
       "\n",
       "    .dataframe thead th {\n",
       "        text-align: right;\n",
       "    }\n",
       "</style>\n",
       "<table border=\"1\" class=\"dataframe\">\n",
       "  <thead>\n",
       "    <tr style=\"text-align: right;\">\n",
       "      <th></th>\n",
       "      <th>date</th>\n",
       "      <th>time</th>\n",
       "      <th>username</th>\n",
       "      <th>activity</th>\n",
       "      <th>acceleration_x</th>\n",
       "      <th>acceleration_y</th>\n",
       "      <th>acceleration_z</th>\n",
       "      <th>gyro_x</th>\n",
       "      <th>gyro_y</th>\n",
       "      <th>gyro_z</th>\n",
       "    </tr>\n",
       "  </thead>\n",
       "  <tbody>\n",
       "    <tr>\n",
       "      <td>0</td>\n",
       "      <td>2017-6-30</td>\n",
       "      <td>13:51:15:847724020</td>\n",
       "      <td>viktor</td>\n",
       "      <td>0</td>\n",
       "      <td>0.2650</td>\n",
       "      <td>-0.7814</td>\n",
       "      <td>-0.0076</td>\n",
       "      <td>-0.0590</td>\n",
       "      <td>0.0325</td>\n",
       "      <td>-2.9296</td>\n",
       "    </tr>\n",
       "    <tr>\n",
       "      <td>1</td>\n",
       "      <td>2017-6-30</td>\n",
       "      <td>13:51:16:246945023</td>\n",
       "      <td>viktor</td>\n",
       "      <td>0</td>\n",
       "      <td>0.6722</td>\n",
       "      <td>-1.1233</td>\n",
       "      <td>-0.2344</td>\n",
       "      <td>-0.1757</td>\n",
       "      <td>0.0208</td>\n",
       "      <td>0.1269</td>\n",
       "    </tr>\n",
       "    <tr>\n",
       "      <td>2</td>\n",
       "      <td>2017-6-30</td>\n",
       "      <td>13:51:16:446233987</td>\n",
       "      <td>viktor</td>\n",
       "      <td>0</td>\n",
       "      <td>0.4399</td>\n",
       "      <td>-1.4817</td>\n",
       "      <td>0.0722</td>\n",
       "      <td>-0.9105</td>\n",
       "      <td>0.1063</td>\n",
       "      <td>-2.4367</td>\n",
       "    </tr>\n",
       "    <tr>\n",
       "      <td>3</td>\n",
       "      <td>2017-6-30</td>\n",
       "      <td>13:51:16:646117985</td>\n",
       "      <td>viktor</td>\n",
       "      <td>0</td>\n",
       "      <td>0.3031</td>\n",
       "      <td>-0.8125</td>\n",
       "      <td>0.0888</td>\n",
       "      <td>0.1199</td>\n",
       "      <td>-0.4099</td>\n",
       "      <td>-2.9336</td>\n",
       "    </tr>\n",
       "    <tr>\n",
       "      <td>4</td>\n",
       "      <td>2017-6-30</td>\n",
       "      <td>13:51:16:846738994</td>\n",
       "      <td>viktor</td>\n",
       "      <td>0</td>\n",
       "      <td>0.4814</td>\n",
       "      <td>-0.9312</td>\n",
       "      <td>0.0359</td>\n",
       "      <td>0.0527</td>\n",
       "      <td>0.4379</td>\n",
       "      <td>2.4922</td>\n",
       "    </tr>\n",
       "  </tbody>\n",
       "</table>\n",
       "</div>"
      ],
      "text/plain": [
       "        date                time username  activity  acceleration_x  \\\n",
       "0  2017-6-30  13:51:15:847724020   viktor         0          0.2650   \n",
       "1  2017-6-30  13:51:16:246945023   viktor         0          0.6722   \n",
       "2  2017-6-30  13:51:16:446233987   viktor         0          0.4399   \n",
       "3  2017-6-30  13:51:16:646117985   viktor         0          0.3031   \n",
       "4  2017-6-30  13:51:16:846738994   viktor         0          0.4814   \n",
       "\n",
       "   acceleration_y  acceleration_z  gyro_x  gyro_y  gyro_z  \n",
       "0         -0.7814         -0.0076 -0.0590  0.0325 -2.9296  \n",
       "1         -1.1233         -0.2344 -0.1757  0.0208  0.1269  \n",
       "2         -1.4817          0.0722 -0.9105  0.1063 -2.4367  \n",
       "3         -0.8125          0.0888  0.1199 -0.4099 -2.9336  \n",
       "4         -0.9312          0.0359  0.0527  0.4379  2.4922  "
      ]
     },
     "execution_count": 98,
     "metadata": {},
     "output_type": "execute_result"
    }
   ],
   "source": [
    "# Exercise 2: Different losses applied to SGDClassifier()\n",
    "\n",
    "# Load dataset\n",
    "df = pd.read_csv(\"dataset.csv\")\n",
    "\n",
    "# Some insights into the data\n",
    "print(df.shape)\n",
    "df.head()"
   ]
  },
  {
   "cell_type": "code",
   "execution_count": 99,
   "metadata": {},
   "outputs": [
    {
     "data": {
      "text/html": [
       "<div>\n",
       "<style scoped>\n",
       "    .dataframe tbody tr th:only-of-type {\n",
       "        vertical-align: middle;\n",
       "    }\n",
       "\n",
       "    .dataframe tbody tr th {\n",
       "        vertical-align: top;\n",
       "    }\n",
       "\n",
       "    .dataframe thead th {\n",
       "        text-align: right;\n",
       "    }\n",
       "</style>\n",
       "<table border=\"1\" class=\"dataframe\">\n",
       "  <thead>\n",
       "    <tr style=\"text-align: right;\">\n",
       "      <th></th>\n",
       "      <th>activity</th>\n",
       "      <th>acceleration_x</th>\n",
       "      <th>acceleration_y</th>\n",
       "      <th>acceleration_z</th>\n",
       "      <th>gyro_x</th>\n",
       "      <th>gyro_y</th>\n",
       "      <th>gyro_z</th>\n",
       "    </tr>\n",
       "  </thead>\n",
       "  <tbody>\n",
       "    <tr>\n",
       "      <td>0</td>\n",
       "      <td>0</td>\n",
       "      <td>0.2650</td>\n",
       "      <td>-0.7814</td>\n",
       "      <td>-0.0076</td>\n",
       "      <td>-0.0590</td>\n",
       "      <td>0.0325</td>\n",
       "      <td>-2.9296</td>\n",
       "    </tr>\n",
       "    <tr>\n",
       "      <td>1</td>\n",
       "      <td>0</td>\n",
       "      <td>0.6722</td>\n",
       "      <td>-1.1233</td>\n",
       "      <td>-0.2344</td>\n",
       "      <td>-0.1757</td>\n",
       "      <td>0.0208</td>\n",
       "      <td>0.1269</td>\n",
       "    </tr>\n",
       "    <tr>\n",
       "      <td>2</td>\n",
       "      <td>0</td>\n",
       "      <td>0.4399</td>\n",
       "      <td>-1.4817</td>\n",
       "      <td>0.0722</td>\n",
       "      <td>-0.9105</td>\n",
       "      <td>0.1063</td>\n",
       "      <td>-2.4367</td>\n",
       "    </tr>\n",
       "    <tr>\n",
       "      <td>3</td>\n",
       "      <td>0</td>\n",
       "      <td>0.3031</td>\n",
       "      <td>-0.8125</td>\n",
       "      <td>0.0888</td>\n",
       "      <td>0.1199</td>\n",
       "      <td>-0.4099</td>\n",
       "      <td>-2.9336</td>\n",
       "    </tr>\n",
       "    <tr>\n",
       "      <td>4</td>\n",
       "      <td>0</td>\n",
       "      <td>0.4814</td>\n",
       "      <td>-0.9312</td>\n",
       "      <td>0.0359</td>\n",
       "      <td>0.0527</td>\n",
       "      <td>0.4379</td>\n",
       "      <td>2.4922</td>\n",
       "    </tr>\n",
       "  </tbody>\n",
       "</table>\n",
       "</div>"
      ],
      "text/plain": [
       "   activity  acceleration_x  acceleration_y  acceleration_z  gyro_x  gyro_y  \\\n",
       "0         0          0.2650         -0.7814         -0.0076 -0.0590  0.0325   \n",
       "1         0          0.6722         -1.1233         -0.2344 -0.1757  0.0208   \n",
       "2         0          0.4399         -1.4817          0.0722 -0.9105  0.1063   \n",
       "3         0          0.3031         -0.8125          0.0888  0.1199 -0.4099   \n",
       "4         0          0.4814         -0.9312          0.0359  0.0527  0.4379   \n",
       "\n",
       "   gyro_z  \n",
       "0 -2.9296  \n",
       "1  0.1269  \n",
       "2 -2.4367  \n",
       "3 -2.9336  \n",
       "4  2.4922  "
      ]
     },
     "execution_count": 99,
     "metadata": {},
     "output_type": "execute_result"
    }
   ],
   "source": [
    "# Exercise 2: Different losses applied to SGDClassifier() (cont)\n",
    "\n",
    "# Drop the columns that are not numerical data\n",
    "df = df.drop([\"date\", \"time\", \"username\"], axis=1)\n",
    "df.head()"
   ]
  },
  {
   "cell_type": "code",
   "execution_count": 100,
   "metadata": {},
   "outputs": [
    {
     "name": "stdout",
     "output_type": "stream",
     "text": [
      "0.8697585768742059\n"
     ]
    }
   ],
   "source": [
    "# Exercise 2: Different losses applied to SGDClassifier() (cont)\n",
    "\n",
    "# Pre-process the data\n",
    "data = df.values\n",
    "X = data[:, 1:]  # all rows, no label\n",
    "y = data[:, 0]  # all rows, label only\n",
    "\n",
    "# Split the train/test sets, will see this function shortly.\n",
    "X_train, X_test, y_train, y_test = train_test_split(X, y, test_size=0.25, random_state=42)\n",
    "\n",
    "scaler = StandardScaler()\n",
    "scaler.fit(X_train)\n",
    "X_train = scaler.transform(X_train)\n",
    "X_test = scaler.transform(X_test)\n",
    "\n",
    "# L2-regularized Linear Support Vector Machine\n",
    "### YOUR CODE HERE. Fill in the \"None\"\n",
    "# Hint: define a L2-regularized Support Vector Machine object by SGDClassifier()\n",
    "model = None\n",
    "# Hint: fit the model on train set\n",
    "None\n",
    "# Hint: 'accuracy' is the accuracy of the model on the test set\n",
    "accuracy = None\n",
    "### END OF YOUR CODE.\n",
    "\n",
    "print(accuracy)"
   ]
  },
  {
   "cell_type": "markdown",
   "metadata": {},
   "source": [
    "Let us explore the accuracy as a function of the number of iterations!"
   ]
  },
  {
   "cell_type": "code",
   "execution_count": 101,
   "metadata": {},
   "outputs": [
    {
     "data": {
      "image/png": "[encoded data removed]",
      "text/plain": [
       "<Figure size 864x720 with 1 Axes>"
      ]
     },
     "metadata": {
      "needs_background": "light"
     },
     "output_type": "display_data"
    }
   ],
   "source": [
    "# Exercise 2: Different losses applied to SGDClassifier() (cont)\n",
    "\n",
    "n_iters = [5, 10, 20, 50, 100, 1000]\n",
    "scores = []\n",
    "with warnings.catch_warnings():\n",
    "    warnings.filterwarnings(\"ignore\", category=ConvergenceWarning)\n",
    "    for n_iter in n_iters:\n",
    "        ### YOUR CODE HERE. Fill in the \"None\". 3 lines of code.\n",
    "        # Note: at this step, I assume the students are familar with the steps: define object -->> fit -->> score\n",
    "        # Hint: l2-regularized Support Vector Machine, number of iterations is n_iter\n",
    "        # Hint: then fit the model on the train data, and append the accuracy on test data to 'scores'\n",
    "        model = None\n",
    "        None\n",
    "        scores.append(None)\n",
    "        ### END OF YOUR CODE.\n",
    "\n",
    "plt.title(\"Effect of n_iter\")\n",
    "plt.xlabel(\"n_iter\")\n",
    "plt.ylabel(\"score\")\n",
    "plt.plot(n_iters, scores) \n",
    "plt.show()"
   ]
  },
  {
   "cell_type": "markdown",
   "metadata": {},
   "source": [
    "You may get different plots every time you run the cell. However, the general tendency is the accuracy improves as n_iter increases, and will converge at some point.\n",
    "\n",
    "Let us also experiment on how accuracy changes if we apply different loss functions."
   ]
  },
  {
   "cell_type": "code",
   "execution_count": 102,
   "metadata": {},
   "outputs": [
    {
     "data": {
      "image/png": "[encoded data removed]",
      "text/plain": [
       "<Figure size 864x720 with 1 Axes>"
      ]
     },
     "metadata": {
      "needs_background": "light"
     },
     "output_type": "display_data"
    }
   ],
   "source": [
    "# Exercise 2: Different losses applied to SGDClassifier() (cont)\n",
    "losses = [\"hinge\", \"log\", \"modified_huber\", \"perceptron\", \"squared_hinge\"]\n",
    "scores = []\n",
    "for loss in losses:\n",
    "    ### YOUR CODE HERE. Fill in the \"None\".\n",
    "    # Hint: 1000 iterations, L2-regularization, try out all loss functions given in 'losses'.\n",
    "    model = None\n",
    "    None\n",
    "    scores.append(None)\n",
    "    ### END OF YOUR CODE.\n",
    "\n",
    "plt.title(\"Effect of loss function\")\n",
    "plt.xlabel(\"loss function\")\n",
    "plt.ylabel(\"score\")\n",
    "x = np.arange(len(losses))\n",
    "plt.xticks(x, losses)\n",
    "plt.plot(x, scores) \n",
    "plt.show()"
   ]
  },
  {
   "cell_type": "markdown",
   "metadata": {},
   "source": [
    "### References:\n",
    "1. https://scikit-learn.org/stable/modules/classes.html#module-sklearn.linear_model\n",
    "2. https://towardsdatascience.com/logistic-regression-using-python-sklearn-numpy-mnist-handwriting-recognition-matplotlib-a6b31e2b166a\n",
    "3. https://github.com/WilliamQLiu/python-examples/blob/master/sklearn/SGDClassifier_example.py\n",
    "4. https://www.kaggle.com/vmalyi/run-or-walk/downloads/dataset.csv/notebook"
   ]
  },
  {
   "cell_type": "markdown",
   "metadata": {},
   "source": [
    "That is the end of Logistic Regression section for today tutorials! In the next part, we will see how some hyper-parameters can be chosen to optimize the performance!"
   ]
  },
  {
   "cell_type": "code",
   "execution_count": null,
   "metadata": {},
   "outputs": [],
   "source": []
  }
 ],
 "metadata": {
  "kernelspec": {
   "display_name": "Python 3",
   "language": "python",
   "name": "python3"
  },
  "language_info": {
   "codemirror_mode": {
    "name": "ipython",
    "version": 3
   },
   "file_extension": ".py",
   "mimetype": "text/x-python",
   "name": "python",
   "nbconvert_exporter": "python",
   "pygments_lexer": "ipython3",
   "version": "3.6.8"
  }
 },
 "nbformat": 4,
 "nbformat_minor": 2
}
